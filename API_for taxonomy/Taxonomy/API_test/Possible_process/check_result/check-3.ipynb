{
 "cells": [
  {
   "cell_type": "code",
   "outputs": [],
   "source": [
    "# package\n",
    "import json  # For handling JSON data\n",
    "from openai import OpenAI  # For interacting with OpenAI API\n",
    "import os  # For interacting with the operating system, such as file paths\n",
    "import re  # For regular expressions, useful for pattern matching in strings\n",
    "import pandas as pd"
   ],
   "metadata": {
    "collapsed": false,
    "ExecuteTime": {
     "end_time": "2024-06-12T23:13:45.550626Z",
     "start_time": "2024-06-12T23:13:43.056147Z"
    }
   },
   "id": "43304f0a37cb6681",
   "execution_count": 2
  },
  {
   "cell_type": "code",
   "execution_count": 23,
   "id": "initial_id",
   "metadata": {
    "collapsed": true,
    "ExecuteTime": {
     "end_time": "2024-06-12T23:21:36.330414Z",
     "start_time": "2024-06-12T23:21:36.321225Z"
    }
   },
   "outputs": [
    {
     "name": "stdout",
     "output_type": "stream",
     "text": [
      "Character match for Coccygidium (Character5): error_state = 1, correct_state = 1\n",
      "Character match for Biroia (Character5): error_state = 2, correct_state = 2\n",
      "Character match for Biroia (Character6): error_state = 1, correct_state = 1\n",
      "Character match for Cremnoptoides (Character5): error_state = 2, correct_state = 2\n",
      "Character match for Cremnoptoides (Character6): error_state = 1 and 2, correct_state = 1 and 2\n",
      "Character match for Cremnoptoides (Character13): error_state = 1, correct_state = 1\n",
      "Character match for Disophrys (Character5): error_state = 2, correct_state = 2\n",
      "Character match for Disophrys (Character6): error_state = 1 and 2, correct_state = 1 and 2\n",
      "Character match for Disophrys (Character13): error_state = 2, correct_state = 2\n",
      "Character match for Troticus (Character1): error_state = 2, correct_state = 2\n",
      "Character match for Troticus (Character9): error_state = 2, correct_state = 2\n",
      "Character match for Hypsostypos (Character1): error_state = 2, correct_state = 2\n",
      "Character match for Hypsostypos (Character9): error_state = 1, correct_state = 1\n",
      "Character match for Cremnops (Character1): error_state = 1 and 2, correct_state = 1 and 2\n",
      "Character match for Amputostypos (Character2): error_state = 1 and 2, correct_state = 1 and 2\n",
      "Character match for Amputostypos (Character3): error_state = 1, correct_state = 1\n",
      "Character match for Euagathis (Character2): error_state = 1 and 2, correct_state = 1 and 2\n",
      "Character match for Euagathis (Character3): error_state = 1, correct_state = 1\n",
      "Character mismatch for Lytopylus (Character2): error_state = 1 and 2, correct_state = 2\n",
      "Character match for Lytopylus (Character3): error_state = 2, correct_state = 2\n",
      "Character match for Lytopylus (Character9): error_state = 1, correct_state = 1\n",
      "Character match for Lytopylus (Character4): error_state = 1 and 2, correct_state = 1 and 2\n",
      "Character mismatch for Therophilus (Character2): error_state = 1 and 2, correct_state = 2\n",
      "Character match for Therophilus (Character3): error_state = 2, correct_state = 2\n",
      "Character match for Therophilus (Character9): error_state = 1, correct_state = 1 and 2\n",
      "Character match for Therophilus (Character4): error_state = 2, correct_state = 2\n",
      "Character match for Therophilus (Character13): error_state = 1 and 2, correct_state = 1 and 2\n",
      "Character match for Agathis (Character2): error_state = 1 and 2, correct_state = 1 and 2\n",
      "Character match for Agathis (Character3): error_state = 2, correct_state = 2\n",
      "Character match for Agathis (Character9): error_state = 1, correct_state = 1\n",
      "Character match for Agathis (Character4): error_state = 2, correct_state = 2\n",
      "Character match for Agathis (Character13): error_state = 2, correct_state = 2\n",
      "Character match for Braunsia (Character2): error_state = 1 and 2, correct_state = 1 and 2\n",
      "Character match for Braunsia (Character3): error_state = 2, correct_state = 2\n",
      "Character match for Braunsia (Character9): error_state = 2, correct_state = 2\n",
      "Character match for Aneurobracon (Character2): error_state = 3, correct_state = 3\n",
      "Character match for Aneurobracon (Character8): error_state = 3, correct_state = 3\n",
      "Character match for Aneurobracon (Character3): error_state = 2 and 3, correct_state = 2 and 3\n",
      "Character match for Camptothlipsis (Character2): error_state = 3, correct_state = 3\n",
      "Character match for Camptothlipsis (Character8): error_state = 3, correct_state = 3\n",
      "Character match for Camptothlipsis (Character3): error_state = 2, correct_state = 2\n",
      "Character match for Earinus (Character2): error_state = 1, correct_state = 1\n",
      "\n",
      "Errors:\n",
      "[\n",
      "    {\n",
      "        \"species\": \"Lytopylus\",\n",
      "        \"key\": \"4\",\n",
      "        \"error\": \"Mismatch\",\n",
      "        \"error_result\": {\n",
      "            \"Character2\": {\n",
      "                \"error_state\": \"1 and 2\",\n",
      "                \"correct_state\": \"2\"\n",
      "            }\n",
      "        },\n",
      "        \"correct_result\": {\n",
      "            \"Character2\": \"2\"\n",
      "        }\n",
      "    },\n",
      "    {\n",
      "        \"species\": \"Therophilus\",\n",
      "        \"key\": \"4\",\n",
      "        \"error\": \"Mismatch\",\n",
      "        \"error_result\": {\n",
      "            \"Character2\": {\n",
      "                \"error_state\": \"1 and 2\",\n",
      "                \"correct_state\": \"2\"\n",
      "            }\n",
      "        },\n",
      "        \"correct_result\": {\n",
      "            \"Character2\": \"2\"\n",
      "        }\n",
      "    }\n",
      "]\n",
      "[{'species': 'Lytopylus', 'key': '4', 'error': 'Mismatch', 'error_result': {'Character2': {'error_state': '1 and 2', 'correct_state': '2'}}, 'correct_result': {'Character2': '2'}}, {'species': 'Therophilus', 'key': '4', 'error': 'Mismatch', 'error_result': {'Character2': {'error_state': '1 and 2', 'correct_state': '2'}}, 'correct_result': {'Character2': '2'}}]\n"
     ]
    }
   ],
   "source": [
    "# block 1 recording the final taxonomic key results\n",
    "# Import knowledge graph\n",
    "with open(\"D:/桌面/knowledge_graph.json\", 'r') as file:\n",
    "    knowledge_graph = json.load(file)\n",
    "\n",
    "# Sample data for classification results\n",
    "classification_results = {'1': '{\\n    \"Character\": \"Character5\",\\n    \"States\": {\\n        \"1\": [\"Coccygidium\"],\\n        \"2\": {\\n            \"Character\": \"Character6\",\\n            \"States\": {\\n                \"1\": [\"Biroia\"],\\n                \"1 and 2\": {\\n                    \"Character\": \"Character13\",\\n                    \"States\": {\\n                        \"1\": [\"Cremnoptoides\"],\\n                        \"2\": [\"Disophrys\"]\\n                    }\\n                }\\n            }\\n        }\\n    }\\n}', '2': '{\\n    \"Character\": \"Character 1\",\\n    \"States\": {\\n        \"2\": {\\n            \"Character\": \"Character 9\",\\n            \"States\": {\\n                \"2\": [\"Troticus\"],\\n                \"1\": [\"Hypsostypos\"]\\n            }\\n        },\\n        \"1 and 2\": [\"Cremnops\"]\\n    }\\n}', '4': '{\\n    \"Character\": \"Character2\",\\n    \"States\": {\\n        \"1 and 2\": {\\n            \"Character\": \"Character3\",\\n            \"States\": {\\n                \"1\": [\"Amputostypos\", \"Euagathis\"],\\n                \"2\": {\\n                    \"Character\": \"Character9\",\\n                    \"States\": {\\n                        \"1\": {\\n                            \"Character\": \"Character4\",\\n                            \"States\": {\\n                                \"1 and 2\": [\"Lytopylus\"],\\n                                \"2\": {\\n                                    \"Character\": \"Character13\",\\n                                    \"States\": {\\n                                        \"1 and 2\": [\"Therophilus\"],\\n                                        \"2\": [\"Agathis\"]\\n                                    }\\n                                }\\n                            }\\n                        },\\n                        \"2\": [\"Braunsia\"]\\n                    }\\n                }\\n            }\\n        },\\n        \"3\": {\\n            \"Character\": \"Character8\",\\n            \"States\": {\\n                \"3\": {\\n                    \"Character\": \"Character3\",\\n                    \"States\": {\\n                        \"2 and 3\": [\"Aneurobracon\"],\\n                        \"2\": [\"Camptothlipsis\"]\\n                    }\\n                }\\n            }\\n        },\\n        \"1\": [\"Earinus\"]\\n    }\\n}'}\n",
    "\n",
    "# Function to extract paths of characteristics and states recursively\n",
    "def extract_paths(node, path=None):\n",
    "    if path is None:\n",
    "        path = {}\n",
    "\n",
    "    if 'Character' in node and 'States' in node:\n",
    "        current_character = node['Character'].replace(\" \", \"\").strip()\n",
    "        for state, value in node['States'].items():\n",
    "            new_path = path.copy()\n",
    "            new_path[current_character] = state\n",
    "            if isinstance(value, dict):\n",
    "                yield from extract_paths(value, new_path)\n",
    "            else:\n",
    "                for species in value:\n",
    "                    yield species, new_path\n",
    "\n",
    "# Process each classification result and extract paths\n",
    "final_results = {}\n",
    "for key, json_str in classification_results.items():\n",
    "    classification_data = json.loads(json_str)\n",
    "    species_paths = list(extract_paths(classification_data))\n",
    "\n",
    "    formatted_results = {}\n",
    "    for species, path in species_paths:\n",
    "        formatted_results[species] = {\"Characteristics\": path}\n",
    "    \n",
    "    final_results[key] = formatted_results\n",
    "\n",
    "\n",
    "\n",
    "# block 2: compare with the original knowledge graph, and recording the errors part\n",
    "# Compare results and record differences\n",
    "comparison_results = {}\n",
    "errors = []\n",
    "# Helper function to check if the state matches the correct state\n",
    "def check_state_match(state, correct_state):\n",
    "    if correct_state is None:\n",
    "        return False\n",
    "    if \" and \" in correct_state:\n",
    "        correct_states = correct_state.split(\" and \")\n",
    "        return all(sub_state in correct_states for sub_state in state.split(\" and \"))\n",
    "    return state == correct_state\n",
    "\n",
    "# Add more logging for debugging\n",
    "for key, results in final_results.items():\n",
    "    for species, data in results.items():\n",
    "        if species in knowledge_graph:\n",
    "            mismatch = False\n",
    "            incorrect_character_states = {}\n",
    "            for character, state in data[\"Characteristics\"].items():\n",
    "                # Correct the character name format\n",
    "                character = character.replace(\" \", \"\").strip()\n",
    "                correct_state = knowledge_graph[species][\"Characteristics\"].get(character)\n",
    "                if correct_state is None:\n",
    "                    print(f\"Correct state not found for {species} ({character}): error_state = {state}\")\n",
    "                if correct_state is None or not check_state_match(state, correct_state):\n",
    "                    mismatch = True\n",
    "                    incorrect_character_states[character] = {\"error_state\": state, \"correct_state\": correct_state}\n",
    "                    print(f\"Character mismatch for {species} ({character}): error_state = {state}, correct_state = {correct_state}\")\n",
    "                else:\n",
    "                    print(f\"Character match for {species} ({character}): error_state = {state}, correct_state = {correct_state}\")\n",
    "            if mismatch:\n",
    "                errors.append({\n",
    "                    \"species\": species,\n",
    "                    \"key\": key,\n",
    "                    \"error\": \"Mismatch\",\n",
    "                    \"error_result\": incorrect_character_states,\n",
    "                    \"correct_result\": {character: knowledge_graph[species][\"Characteristics\"].get(character) for character in incorrect_character_states}\n",
    "                })\n",
    "        else:\n",
    "            errors.append({\n",
    "                \"species\": species,\n",
    "                \"key\": key,\n",
    "                \"error\": \"Species not found in knowledge graph\",\n",
    "                \"error_result\": data[\"Characteristics\"]\n",
    "            })\n",
    "\n",
    "# Output results\n",
    "# print(\"Classification Results:\")\n",
    "# print(json.dumps(final_results, indent=4))\n",
    "\n",
    "print(\"\\nErrors:\")\n",
    "print(json.dumps(errors, indent=4))\n",
    "print(errors)\n"
   ]
  },
  {
   "cell_type": "markdown",
   "source": [
    "1. Initialization and data loading"
   ],
   "metadata": {
    "collapsed": false
   },
   "id": "5a36d6c986753a74"
  },
  {
   "cell_type": "code",
   "outputs": [],
   "source": [
    "client = OpenAI(api_key=os.getenv(\"OPENAI_API_KEY\"))\n",
    "with open(\"D:/桌面/knowledge_graph.json\", 'r') as file:\n",
    "    knowledge_graph = json.load(file)\n",
    "    \n",
    "classification_results = {'1': '{\\n    \"Character\": \"Character5\",\\n    \"States\": {\\n        \"1\": [\"Coccygidium\"],\\n        \"2\": {\\n            \"Character\": \"Character6\",\\n            \"States\": {\\n                \"1\": [\"Biroia\"],\\n                \"1 and 2\": {\\n                    \"Character\": \"Character13\",\\n                    \"States\": {\\n                        \"1\": [\"Cremnoptoides\"],\\n                        \"2\": [\"Disophrys\"]\\n                    }\\n                }\\n            }\\n        }\\n    }\\n}', '2': '{\\n    \"Character\": \"Character 1\",\\n    \"States\": {\\n        \"2\": {\\n            \"Character\": \"Character 9\",\\n            \"States\": {\\n                \"2\": [\"Troticus\"],\\n                \"1\": [\"Hypsostypos\"]\\n            }\\n        },\\n        \"1 and 2\": [\"Cremnops\"]\\n    }\\n}', '4': '{\\n    \"Character\": \"Character2\",\\n    \"States\": {\\n        \"1 and 2\": {\\n            \"Character\": \"Character3\",\\n            \"States\": {\\n                \"1\": [\"Amputostypos\", \"Euagathis\"],\\n                \"2\": {\\n                    \"Character\": \"Character9\",\\n                    \"States\": {\\n                        \"1\": {\\n                            \"Character\": \"Character4\",\\n                            \"States\": {\\n                                \"1 and 2\": [\"Lytopylus\"],\\n                                \"2\": {\\n                                    \"Character\": \"Character13\",\\n                                    \"States\": {\\n                                        \"1 and 2\": [\"Therophilus\"],\\n                                        \"2\": [\"Agathis\"]\\n                                    }\\n                                }\\n                            }\\n                        },\\n                        \"2\": [\"Braunsia\"]\\n                    }\\n                }\\n            }\\n        },\\n        \"3\": {\\n            \"Character\": \"Character8\",\\n            \"States\": {\\n                \"3\": {\\n                    \"Character\": \"Character3\",\\n                    \"States\": {\\n                        \"2 and 3\": [\"Aneurobracon\"],\\n                        \"2\": [\"Camptothlipsis\"]\\n                    }\\n                }\\n            }\\n        },\\n        \"1\": [\"Earinus\"]\\n    }\\n}'}"
   ],
   "metadata": {
    "collapsed": false,
    "ExecuteTime": {
     "end_time": "2024-06-12T23:18:50.698581Z",
     "start_time": "2024-06-12T23:18:50.477282Z"
    }
   },
   "id": "2e76372dd97fba7f",
   "execution_count": 15
  },
  {
   "cell_type": "code",
   "outputs": [
    {
     "name": "stdout",
     "output_type": "stream",
     "text": [
      "{'Character': 'Character1', 'States': {'1': ['Biroia', 'Coccygidium', 'Disophrys', 'Cremnoptoides'], '2': ['Troticus', 'Hypsostypos', 'Cremnops'], '3': ['Gyrochus'], '4': ['Agathis', 'Lytopylus', 'Braunsia', 'Camptothlipsis', 'Therophilus', 'Bassus', 'Earinus', 'Amputostypos', 'Euagathis', 'Aneurobracon']}}\n",
      "<class 'list'>\n"
     ]
    }
   ],
   "source": [
    "import re\n",
    "import json\n",
    "\n",
    "# 初始响应\n",
    "initial_response = {\n",
    "    \"Character\": \"Character1\",\n",
    "    \"States\": {\n",
    "        \"1\": [\"Biroia\", \"Coccygidium\", \"Disophrys\", \"Cremnoptoides\"],\n",
    "        \"2\": [\"Troticus\", \"Hypsostypos\", \"Cremnops\"],\n",
    "        \"3\": [\"Gyrochus\"],\n",
    "        \"4\": [\"Agathis\", \"Lytopylus\", \"Braunsia\", \"Camptothlipsis\", \"Therophilus\", \"Bassus\", \"Earinus\", \"Amputostypos\", \"Euagathis\", \"Aneurobracon\"]\n",
    "    }\n",
    "}\n",
    "\n",
    "# 函数解析分类结果\n",
    "def parse_classification_result(result_text):\n",
    "    classification = {\"Character\": None, \"States\": {}}\n",
    "    try:\n",
    "        # 尝试匹配Character\n",
    "        character_match = re.search(r'\"Character\": \"([^\"]+)\"', result_text)\n",
    "        if character_match:\n",
    "            classification[\"Character\"] = character_match.group(1)\n",
    "        else:\n",
    "            raise ValueError(\"Character not found in the result text.\")\n",
    "\n",
    "        # 尝试匹配各个State和对应的species\n",
    "        state_sections = re.findall(r'\"(\\d+|[^\"]+)\":\\s*\\[(.*?)\\]', result_text)\n",
    "        if not state_sections:\n",
    "            raise ValueError(\"No states found in the result text.\")\n",
    "\n",
    "        for state, species_block in state_sections:\n",
    "            species_list = re.findall(r'\"([^\"]+)\"', species_block)\n",
    "            if not species_list:\n",
    "                raise ValueError(f\"No species found for state {state}.\")\n",
    "            classification[\"States\"][state] = species_list\n",
    "\n",
    "    except Exception as e:\n",
    "        print(f\"Error parsing classification result: {e}\")\n",
    "        raise e  # 或者 return classification\n",
    "\n",
    "    return classification\n",
    "\n",
    "# 将字典转换为字符串\n",
    "initial_response_str = json.dumps(initial_response)\n",
    "\n",
    "# 解析初始分类结果\n",
    "parsed_initial_classification = parse_classification_result(initial_response_str)\n",
    "print(parsed_initial_classification)\n",
    "\n",
    "# 生成分类结果的组\n",
    "def generate_groups_from_classification(classification_result):\n",
    "    groups = []\n",
    "    for state, species_list in classification_result[\"States\"].items():\n",
    "        groups.append((state, species_list))\n",
    "    return groups\n",
    "\n",
    "# 从解析的初始分类结果生成组\n",
    "groups = generate_groups_from_classification(parsed_initial_classification)\n",
    "print(type(groups))"
   ],
   "metadata": {
    "collapsed": false,
    "ExecuteTime": {
     "end_time": "2024-06-12T23:18:52.938670Z",
     "start_time": "2024-06-12T23:18:52.932156Z"
    }
   },
   "id": "60862f2052e636a6",
   "execution_count": 16
  },
  {
   "cell_type": "markdown",
   "source": [
    "2. Extraction path\n",
    "Define a recursive function extract_paths to extract the classification paths for each species.\n",
    "Process each classification result, extract the paths and format them into dictionary form to be stored in final_results."
   ],
   "metadata": {
    "collapsed": false
   },
   "id": "c5e974174f51828d"
  },
  {
   "cell_type": "code",
   "outputs": [
    {
     "name": "stdout",
     "output_type": "stream",
     "text": [
      "{'1': '{\\n    \"Character\": \"Character5\",\\n    \"States\": {\\n        \"1\": [\"Coccygidium\"],\\n        \"2\": {\\n            \"Character\": \"Character6\",\\n            \"States\": {\\n                \"1\": [\"Biroia\"],\\n                \"1 and 2\": {\\n                    \"Character\": \"Character13\",\\n                    \"States\": {\\n                        \"1\": [\"Cremnoptoides\"],\\n                        \"2\": [\"Disophrys\"]\\n                    }\\n                }\\n            }\\n        }\\n    }\\n}', '2': '{\\n    \"Character\": \"Character 1\",\\n    \"States\": {\\n        \"2\": {\\n            \"Character\": \"Character 9\",\\n            \"States\": {\\n                \"2\": [\"Troticus\"],\\n                \"1\": [\"Hypsostypos\"]\\n            }\\n        },\\n        \"1 and 2\": [\"Cremnops\"]\\n    }\\n}', '4': '{\\n    \"Character\": \"Character2\",\\n    \"States\": {\\n        \"1 and 2\": {\\n            \"Character\": \"Character3\",\\n            \"States\": {\\n                \"1\": [\"Amputostypos\", \"Euagathis\"],\\n                \"2\": {\\n                    \"Character\": \"Character9\",\\n                    \"States\": {\\n                        \"1\": {\\n                            \"Character\": \"Character4\",\\n                            \"States\": {\\n                                \"1 and 2\": [\"Lytopylus\"],\\n                                \"2\": {\\n                                    \"Character\": \"Character13\",\\n                                    \"States\": {\\n                                        \"1 and 2\": [\"Therophilus\"],\\n                                        \"2\": [\"Agathis\"]\\n                                    }\\n                                }\\n                            }\\n                        },\\n                        \"2\": [\"Braunsia\"]\\n                    }\\n                }\\n            }\\n        },\\n        \"3\": {\\n            \"Character\": \"Character8\",\\n            \"States\": {\\n                \"3\": {\\n                    \"Character\": \"Character3\",\\n                    \"States\": {\\n                        \"2 and 3\": [\"Aneurobracon\"],\\n                        \"2\": [\"Camptothlipsis\"]\\n                    }\\n                }\\n            }\\n        },\\n        \"1\": [\"Earinus\"]\\n    }\\n}'}\n"
     ]
    }
   ],
   "source": [
    "print(classification_results)"
   ],
   "metadata": {
    "collapsed": false,
    "ExecuteTime": {
     "end_time": "2024-06-12T23:18:57.406179Z",
     "start_time": "2024-06-12T23:18:57.402807Z"
    }
   },
   "id": "d29438a331788329",
   "execution_count": 17
  },
  {
   "cell_type": "code",
   "outputs": [],
   "source": [
    "def extract_paths(node, path=None):\n",
    "    if path is None:\n",
    "        path = {}\n",
    "\n",
    "    if 'Character' in node and 'States' in node:\n",
    "        current_character = node['Character'].replace(\" \", \"\").strip()\n",
    "        for state, value in node['States'].items():\n",
    "            new_path = path.copy()\n",
    "            new_path[current_character] = state\n",
    "            if isinstance(value, dict):\n",
    "                yield from extract_paths(value, new_path)\n",
    "            else:\n",
    "                for species in value:\n",
    "                    yield species, new_path\n",
    "\n",
    "# 处理每个分类结果并提取路径\n",
    "final_results = {}\n",
    "\n",
    "for key, json_str in classification_results.items():\n",
    "    classification_data = json.loads(json_str)\n",
    "    species_paths = list(extract_paths(classification_data))\n",
    "\n",
    "    formatted_results = {}\n",
    "    for species, path in species_paths:\n",
    "        formatted_results[species] = {\"Characteristics\": path}\n",
    "    \n",
    "    final_results[key] = formatted_results\n",
    "    "
   ],
   "metadata": {
    "collapsed": false,
    "ExecuteTime": {
     "end_time": "2024-06-12T23:19:00.689474Z",
     "start_time": "2024-06-12T23:19:00.686083Z"
    }
   },
   "id": "f02262737da9c121",
   "execution_count": 18
  },
  {
   "cell_type": "markdown",
   "source": [
    "3. Validation of classification results and recording of errors\n",
    "Define the check_state_match function to check for state matches.\n",
    "Define validate_results function to validate classification results and log errors."
   ],
   "metadata": {
    "collapsed": false
   },
   "id": "5a9b7ee20a5f2554"
  },
  {
   "cell_type": "code",
   "outputs": [],
   "source": [
    "def check_state_match(state, correct_state):\n",
    "    if correct_state is None:\n",
    "        return False\n",
    "    if \" and \" in correct_state:\n",
    "        correct_states = correct_state.split(\" and \")\n",
    "        return all(sub_state in correct_states for sub_state in state.split(\" and \"))\n",
    "    return state == correct_state\n",
    "\n",
    "# Validate classification results and log errors\n",
    "def validate_results(final_results, knowledge_graph):\n",
    "    errors = []\n",
    "    for key, results in final_results.items():\n",
    "        for species, data in results.items():\n",
    "            if species in knowledge_graph:\n",
    "                mismatch = False\n",
    "                incorrect_character_states = {}\n",
    "                for character, state in data[\"Characteristics\"].items():\n",
    "                    character = character.replace(\" \", \"\").strip()\n",
    "                    correct_state = knowledge_graph[species][\"Characteristics\"].get(character)\n",
    "                    if correct_state is None or not check_state_match(state, correct_state):\n",
    "                        mismatch = True\n",
    "                        incorrect_character_states[character] = {\"error_state\": state, \"correct_state\": correct_state}\n",
    "                if mismatch:\n",
    "                    errors.append({\n",
    "                        \"species\": species,\n",
    "                        \"key\": key,\n",
    "                        \"error\": \"Mismatch\",\n",
    "                        \"error_result\": incorrect_character_states,\n",
    "                        \"correct_result\": {character: knowledge_graph[species][\"Characteristics\"].get(character) for character in incorrect_character_states}\n",
    "                    })\n",
    "            else:\n",
    "                errors.append({\n",
    "                    \"species\": species,\n",
    "                    \"key\": key,\n",
    "                    \"error\": \"Species not found in knowledge graph\",\n",
    "                    \"error_result\": data[\"Characteristics\"]\n",
    "                })\n",
    "    return errors"
   ],
   "metadata": {
    "collapsed": false,
    "ExecuteTime": {
     "end_time": "2024-06-12T23:19:04.711114Z",
     "start_time": "2024-06-12T23:19:04.704618Z"
    }
   },
   "id": "977275768e6e5952",
   "execution_count": 19
  },
  {
   "cell_type": "markdown",
   "source": [
    "4. Correction of classification results\n",
    "Define the correct_classification function to call the API to correct the classification based on an error result.\n",
    "Reclassify using the correct species feature state and update the classification result"
   ],
   "metadata": {
    "collapsed": false
   },
   "id": "7825e64a184abe47"
  },
  {
   "cell_type": "code",
   "outputs": [],
   "source": [
    "# Function to clean and extract JSON string\n",
    "def extract_json_string(json_string):\n",
    "    # Find the positions of the start and end of the JSON object\n",
    "    start = json_string.find('{')\n",
    "    end = json_string.rfind('}') + 1\n",
    "    \n",
    "    # If both start and end positions are valid, extract and return the JSON string\n",
    "    if start != -1 and end != -1:\n",
    "        cleaned_string = json_string[start:end]\n",
    "        return cleaned_string.strip()\n",
    "    \n",
    "    # If positions are not valid, return an empty string\n",
    "    return \"\"\n"
   ],
   "metadata": {
    "collapsed": false,
    "ExecuteTime": {
     "end_time": "2024-06-12T23:19:07.471437Z",
     "start_time": "2024-06-12T23:19:07.468571Z"
    }
   },
   "id": "1bca4c3f25313980",
   "execution_count": 20
  },
  {
   "cell_type": "code",
   "outputs": [],
   "source": [
    "def correct_classification(errors, classification_results, knowledge_graph):\n",
    "    for error in errors:\n",
    "        key = error[\"key\"]\n",
    "        \n",
    "        species_list = []\n",
    "        for group in groups:\n",
    "            if 'States' in group and key in group['States']:\n",
    "                species_list = group['States'][key]\n",
    "                break\n",
    "        if not species_list:\n",
    "            print(f\"Key {key} not found in any group['States']\")\n",
    "            continue\n",
    "        print(f\"Processing species list for state '{key}': {species_list}\")\n",
    "        \n",
    "        group_matrix = {s: knowledge_graph[s] for s in species_list}\n",
    "        group_matrix_str = json.dumps(group_matrix, ensure_ascii=False) \n",
    "        \n",
    "        messages2 = [\n",
    "            {\"role\": \"system\",\n",
    "             \"content\": \"\"\"\n",
    "             You are a helpful taxonomist assistant.\n",
    "             You are skilled at calculating the correct information gain to choose the character that best divides species into even groups based on their states.\n",
    "             Based on the selected character, classify the species into different groups according to their states.\n",
    "             For each group with more than two species, continue selecting characters to further classify this group until each group only has one species.\n",
    "             After multiple classifications, determine the final classification levels and record each classifying character and its state.\n",
    "             Finally, generate a taxonomic key.\n",
    "             You are able to avoid the same error in your results based on the corrected results previously passed to you\n",
    "             \"\"\"},\n",
    "            {\"role\": \"system\",\n",
    "             \"content\": \"\"\"\n",
    "             Generate the nested taxonomic key based on the provided morphological matrix.\n",
    "             The process involves selecting a character to classify the species into groups. Repeat this classification within each subgroup until each group contains only one species.\n",
    "             Information gain measures how much the uncertainty in the dataset is reduced after using a character for classification. It helps in selecting characters that minimize the entropy of the subset after classification, leading to better classification results.\n",
    "             Please select the classification character for these group's species based on the morphological matrix and information gain methods.\n",
    "             In the morphological matrix, 'Missing' and 'Not applicable' are invalid states. If a character has invalid states for the group being classified, it should be ignored.\n",
    "             States are represented by numbers. For example, '1 and 2' means multiple states should be treated as a single state type and this multi-state characterization should not be confused with the single states within it (the state of '3' and '2 and 3' is different state, when you choose the character to based on the state to distinguish need to careful handle). The initial character should have no more than three state types.\n",
    "             You need to calculate the information gain for each character and choose the highest information gain result. The higher the information gain result, the greater the contribution of the feature to the classification.\n",
    "             After selecting the initial classification character and categorizing the species based on its state, repeat the process within each subgroup. For each subgroup, select the character with the highest information gain to further classify the species. Continue this process recursively until each group contains only one species.\n",
    "             Now I will show you the morphological matrix. Please provide the classification character and the categorization of species based on its state. Then, continue to classify each subgroup recursively, showing the chosen character and categorization for each subgroup. Please present the result in a structured format, with each step clearly labeled.\n",
    "             Please don't show how you analyze and calculate, please show me the final result.\n",
    "             \"\"\"},\n",
    "            {\"role\": \"user\", \"content\": f\"\"\"\n",
    "            This is the result of the error you generated in the previous API call. \n",
    "            In this file I have provided you with the CORRECT result. \n",
    "            Please strictly adhere to the use of the correct species feature status message!{error}\n",
    "            \"\"\"},\n",
    "            {\"role\": \"assistant\", \"content\": f\"\"\"\n",
    "            I will strictly use the correct species feature state information for evaluation, \n",
    "            while I will avoid using these incorrect feature state information that appeared previously in the classification results\n",
    "            \"\"\"},\n",
    "            {\"role\": \"user\", \"content\": f\"Here is the group information need to be classify and include the morphological matrix {group_matrix_str}\"}\n",
    "        ]\n",
    "        \n",
    "        response = client.chat.completions.create(\n",
    "            model=\"gpt-4\",\n",
    "            messages=messages2,\n",
    "            stop=None,\n",
    "            temperature=0,\n",
    "            max_tokens=1000,\n",
    "            n=1\n",
    "        )\n",
    "        corrected_result = response.choices[0].message.content\n",
    "        \n",
    "        messages_JSON = [\n",
    "        {\"role\": \"system\",\n",
    "         \"content\":\n",
    "             \"\"\"\n",
    "             You are a helpful JSON format converter.\n",
    "             You can express the nested structure as a JSON result based on the corresponding content.\n",
    "             \"\"\"},\n",
    "        {\"role\": \"system\",\n",
    "         \"content\":\n",
    "             \"\"\"\n",
    "             Please format the classification result as follows:\n",
    "             ```\n",
    "             # Final taxonomic key result JSON format #\n",
    "             {\n",
    "                 \"Character\": \"CharacterX\",\n",
    "                 \"States\": {\n",
    "                     \"1\": [\"speciesA\"],\n",
    "                     \"2\": {\n",
    "                         \"Character\": \"CharacterY\",\n",
    "                         \"States\": {\n",
    "                             \"1\": [\"speciesB\"],\n",
    "                             \"2\": [\"speciesC\"]\n",
    "                         }\n",
    "                     }\n",
    "                 }\n",
    "             }\n",
    "             ```\n",
    "             Ensure that the response follows this format exactly.\n",
    "             \"\"\"},\n",
    "        {\"role\": \"assistant\",\n",
    "         \"content\":\n",
    "             \"\"\"\n",
    "             Understood. I'll convert the nested structure you gave me into JSON format and store it in # final result #.\n",
    "             Please provide what you need to convert the format.\n",
    "             \"\"\"},\n",
    "        {\"role\": \"user\", \"content\": f\"Here are the taxonomic results for the nested schema representation {corrected_result}\"}\n",
    "        ]\n",
    "    \n",
    "        # Make the API call to format the response as JSON\n",
    "        response = client.chat.completions.create(\n",
    "            model=\"gpt-4o\",\n",
    "            messages=messages_JSON,\n",
    "            stop=None,\n",
    "            temperature=0,\n",
    "            max_tokens=1500,\n",
    "            n=1\n",
    "        )\n",
    "        json_result = response.choices[0].message.content\n",
    "        json_cleaned_result = extract_json_string(json_result)\n",
    "        print(json_cleaned_result)\n",
    "        classification_results[key] = json_cleaned_result\n",
    "        return classification_results"
   ],
   "metadata": {
    "collapsed": false,
    "ExecuteTime": {
     "end_time": "2024-06-12T23:19:09.446506Z",
     "start_time": "2024-06-12T23:19:09.439627Z"
    }
   },
   "id": "493c4963e396f28f",
   "execution_count": 21
  },
  {
   "cell_type": "markdown",
   "source": [
    "5. Cycle checks and corrections\n",
    "Ensure that classification results are correct through validation and correction cycles.\n",
    "Validate classification results and log errors.\n",
    "Call the API to correct the incorrect classification results.\n",
    "Update the classification results and validate again, repeat until all errors are corrected.\n",
    "Save the final result to a file."
   ],
   "metadata": {
    "collapsed": false
   },
   "id": "cb5117c771c2d5d9"
  },
  {
   "cell_type": "code",
   "outputs": [
    {
     "name": "stdout",
     "output_type": "stream",
     "text": [
      "Key 4 not found in any group['States']\n",
      "Key 4 not found in any group['States']\n"
     ]
    },
    {
     "ename": "AttributeError",
     "evalue": "'NoneType' object has no attribute 'items'",
     "output_type": "error",
     "traceback": [
      "\u001B[1;31m---------------------------------------------------------------------------\u001B[0m",
      "\u001B[1;31mAttributeError\u001B[0m                            Traceback (most recent call last)",
      "Cell \u001B[1;32mIn[22], line 11\u001B[0m\n\u001B[0;32m      9\u001B[0m final_results \u001B[38;5;241m=\u001B[39m {}\n\u001B[0;32m     10\u001B[0m \u001B[38;5;66;03m# Iterate over the corrected classification results and extract species classification paths.\u001B[39;00m\n\u001B[1;32m---> 11\u001B[0m \u001B[38;5;28;01mfor\u001B[39;00m key, json_str \u001B[38;5;129;01min\u001B[39;00m \u001B[43mclassification_results\u001B[49m\u001B[38;5;241;43m.\u001B[39;49m\u001B[43mitems\u001B[49m():\n\u001B[0;32m     12\u001B[0m     classification_data \u001B[38;5;241m=\u001B[39m json\u001B[38;5;241m.\u001B[39mloads(json_str)\n\u001B[0;32m     13\u001B[0m     species_paths \u001B[38;5;241m=\u001B[39m \u001B[38;5;28mlist\u001B[39m(extract_paths(classification_data))\n",
      "\u001B[1;31mAttributeError\u001B[0m: 'NoneType' object has no attribute 'items'"
     ]
    }
   ],
   "source": [
    "# Cycle checks and corrections\n",
    "errors = validate_results(final_results, knowledge_graph)\n",
    "# Purpose: Enter a loop until all errors have been fixed.\n",
    "# Function: Executes the code inside the loop when the errors list is not empty.\n",
    "while errors:\n",
    "    # Fix current categorization errors. (based on the API )\n",
    "    classification_results = correct_classification(errors, classification_results, knowledge_graph)\n",
    "    # Purpose: To reset the final_results dictionary to store the corrected categorization results.\n",
    "    final_results = {}\n",
    "    # Iterate over the corrected classification results and extract species classification paths.\n",
    "    for key, json_str in classification_results.items():\n",
    "        classification_data = json.loads(json_str)\n",
    "        species_paths = list(extract_paths(classification_data))\n",
    "        # Purpose: Format the extracted classification paths and store them in the formatted_results dictionary.\n",
    "        formatted_results = {}\n",
    "        for species, path in species_paths:\n",
    "            formatted_results[species] = {\"Characteristics\": path}\n",
    "        # Purpose: Add the formatted classification results to final_results.\n",
    "        final_results[key] = formatted_results\n",
    "    # Purpose: Re-validate the corrected classification results and log any remaining errors.\n",
    "    # Function: Call the validate_results function, passing in the updated final_results and knowledge_graph and returning a new list of errors. If there are no errors, then errors is empty and the loop ends.\n",
    "    errors = validate_results(final_results, knowledge_graph)\n",
    "\n",
    "# Save the final classification results\n",
    "with open('final_classification.json', 'w') as f:\n",
    "    json.dump(final_results, f, indent=4)\n",
    "\n",
    "print(\"Final classification results have been saved to 'final_classification.json'.\")\n",
    "print(json.dumps(final_results, indent=4))"
   ],
   "metadata": {
    "collapsed": false,
    "ExecuteTime": {
     "end_time": "2024-06-12T23:19:13.529888Z",
     "start_time": "2024-06-12T23:19:13.517724Z"
    }
   },
   "id": "52693ccbba2a30cf",
   "execution_count": 22
  },
  {
   "cell_type": "code",
   "outputs": [
    {
     "name": "stdout",
     "output_type": "stream",
     "text": [
      "{\"1\": \"{\\n    \\\"Character\\\": \\\"Character 5\\\",\\n    \\\"States\\\": {\\n        \\\"1\\\": [\\\"Coccygidium\\\"],\\n        \\\"2\\\": {\\n            \\\"Character\\\": \\\"Character 10\\\",\\n            \\\"States\\\": {\\n                \\\"1\\\": [\\\"Disophrys\\\"],\\n                \\\"2\\\": {\\n                    \\\"Character\\\": \\\"Character 13\\\",\\n                    \\\"States\\\": {\\n                        \\\"1\\\": [\\\"Cremnoptoides\\\"],\\n                        \\\"2\\\": [\\\"Biroia\\\"]\\n                    }\\n                }\\n            }\\n        }\\n    }\\n}\", \"2\": \"{\\n    \\\"Character\\\": \\\"Character 1\\\",\\n    \\\"States\\\": {\\n        \\\"2\\\": {\\n            \\\"Character\\\": \\\"Character 9\\\",\\n            \\\"States\\\": {\\n                \\\"2\\\": [\\\"Troticus\\\"],\\n                \\\"1\\\": [\\\"Hypsostypos\\\"]\\n            }\\n        },\\n        \\\"1 and 2\\\": [\\\"Cremnops\\\"]\\n    }\\n}\", \"4\": \"{\\n    \\\"Character\\\": \\\"Character2\\\",\\n    \\\"States\\\": {\\n        \\\"1 and 2\\\": {\\n            \\\"Character\\\": \\\"Character3\\\",\\n            \\\"States\\\": {\\n                \\\"2\\\": {\\n                    \\\"Character\\\": \\\"Character4\\\",\\n                    \\\"States\\\": {\\n                        \\\"2\\\": [\\\"Agathis\\\"],\\n                        \\\"1\\\": [\\\"Braunsia\\\"]\\n                    }\\n                },\\n                \\\"1\\\": [\\\"Euagathis\\\"]\\n            }\\n        },\\n        \\\"2\\\": {\\n            \\\"Character\\\": \\\"Character3\\\",\\n            \\\"States\\\": {\\n                \\\"2\\\": {\\n                    \\\"Character\\\": \\\"Character4\\\",\\n                    \\\"States\\\": {\\n                        \\\"1 and 2\\\": [\\\"Lytopylus\\\"],\\n                        \\\"2\\\": [\\\"Therophilus\\\"]\\n                    }\\n                },\\n                \\\"3\\\": [\\\"Bassus\\\"]\\n            }\\n        },\\n        \\\"3\\\": {\\n            \\\"Character\\\": \\\"Character8\\\",\\n            \\\"States\\\": {\\n                \\\"3\\\": [\\\"Camptothlipsis\\\", \\\"Aneurobracon\\\"]\\n            }\\n        },\\n        \\\"1\\\": [\\\"Earinus\\\"],\\n        \\\"1 and 2\\\": [\\\"Amputostypos\\\"]\\n    }\\n}\"}\n"
     ]
    }
   ],
   "source": [
    "print(json.dumps(classification_results))"
   ],
   "metadata": {
    "collapsed": false,
    "ExecuteTime": {
     "end_time": "2024-06-12T06:55:28.471590Z",
     "start_time": "2024-06-12T06:55:28.467266Z"
    }
   },
   "id": "f17263095a690d07",
   "execution_count": 126
  },
  {
   "cell_type": "code",
   "outputs": [
    {
     "name": "stdout",
     "output_type": "stream",
     "text": [
      "1. **Character1:**\n",
      "   - State \"1\":\n",
      "    1. **Character 5:**\n",
      "       - State \"1\": Coccygidium\n",
      "       - State \"2\":\n",
      "        1. **Character 10:**\n",
      "           - State \"1\": Disophrys\n",
      "           - State \"2\":\n",
      "            1. **Character 13:**\n",
      "               - State \"1\": Cremnoptoides\n",
      "               - State \"2\": Biroia\n",
      "   - State \"2\":\n",
      "    1. **Character 1:**\n",
      "       - State \"2\":\n",
      "        1. **Character 9:**\n",
      "           - State \"2\": Troticus\n",
      "           - State \"1\": Hypsostypos\n",
      "       - State \"1 and 2\": Cremnops\n",
      "   - State \"3\": Gyrochus\n",
      "   - State \"4\":\n",
      "    1. **Character2:**\n",
      "       - State \"1 and 2\": Amputostypos\n",
      "       - State \"2\":\n",
      "        1. **Character3:**\n",
      "           - State \"2\":\n",
      "            1. **Character4:**\n",
      "               - State \"1 and 2\": Lytopylus\n",
      "               - State \"2\": Therophilus\n",
      "           - State \"3\": Bassus\n",
      "       - State \"3\":\n",
      "        1. **Character8:**\n",
      "           - State \"3\": Camptothlipsis, Aneurobracon\n",
      "       - State \"1\": Earinus\n",
      "\n",
      "Final Result JSON:\n"
     ]
    }
   ],
   "source": [
    "# Example initial result\n",
    "initial_result = parsed_initial_classification\n",
    "\n",
    "# Parse the API response JSON strings\n",
    "parsed_classification_results = {key: json.loads(value) for key, value in classification_results.items()}\n",
    "\n",
    "# Function to combine the initial and secondary classification results\n",
    "def combine_results(initial, secondary, state_key):\n",
    "    if not secondary:\n",
    "        return\n",
    "\n",
    "    initial_states = initial[\"States\"].get(state_key)\n",
    "    if initial_states is None:\n",
    "        initial[\"States\"][state_key] = secondary\n",
    "        return\n",
    "\n",
    "    if isinstance(initial_states, list):\n",
    "        if isinstance(secondary, list):\n",
    "            initial[\"States\"][state_key] = list(set(initial_states + secondary))  # Merge two lists and remove duplicates\n",
    "        else:\n",
    "            initial[\"States\"][state_key] = secondary\n",
    "    elif isinstance(initial_states, dict):\n",
    "        if isinstance(secondary, dict):\n",
    "            for key, value in secondary[\"States\"].items():\n",
    "                if key not in initial_states:\n",
    "                    initial_states[key] = value\n",
    "                else:\n",
    "                    combine_results(initial_states, value, key)\n",
    "        else:\n",
    "            raise ValueError(f\"Conflicting types for key {state_key}: {type(initial_states)} vs {type(secondary)}\")\n",
    "    else:\n",
    "        raise ValueError(f\"Unexpected type for initial states: {type(initial_states)}\")\n",
    "\n",
    "# Dynamically combine all secondary classification results\n",
    "for state_key, secondary in parsed_classification_results.items():\n",
    "    combine_results(initial_result, secondary, state_key)\n",
    "\n",
    "# Function to display the final classification result\n",
    "def display_classification(result, indent=0):\n",
    "    indent_space = \" \" * indent\n",
    "    character = result.get(\"Character\")\n",
    "    states = result.get(\"States\")\n",
    "\n",
    "    classification = {}\n",
    "    if character and states:\n",
    "        classification[\"Character\"] = character\n",
    "        classification[\"States\"] = {}\n",
    "        print(f\"{indent_space}1. **{character}:**\")\n",
    "        for state, species in states.items():\n",
    "            if isinstance(species, list):\n",
    "                print(f\"{indent_space}   - State \\\"{state}\\\": {', '.join(species)}\")\n",
    "                classification[\"States\"][state] = species\n",
    "            elif isinstance(species, dict):\n",
    "                print(f\"{indent_space}   - State \\\"{state}\\\":\")\n",
    "                classification[\"States\"][state] = display_classification(species, indent + 4)\n",
    "    return classification\n",
    "\n",
    "# Display the final classification result\n",
    "final_result = display_classification(initial_result)\n",
    "print(\"\\nFinal Result JSON:\")\n",
    "# print(json.dumps(final_result, indent=2))\n"
   ],
   "metadata": {
    "collapsed": false,
    "ExecuteTime": {
     "end_time": "2024-06-12T06:55:31.897186Z",
     "start_time": "2024-06-12T06:55:31.888482Z"
    }
   },
   "id": "25583c1e91849b6a",
   "execution_count": 127
  }
 ],
 "metadata": {
  "kernelspec": {
   "display_name": "Python 3",
   "language": "python",
   "name": "python3"
  },
  "language_info": {
   "codemirror_mode": {
    "name": "ipython",
    "version": 2
   },
   "file_extension": ".py",
   "mimetype": "text/x-python",
   "name": "python",
   "nbconvert_exporter": "python",
   "pygments_lexer": "ipython2",
   "version": "2.7.6"
  }
 },
 "nbformat": 4,
 "nbformat_minor": 5
}
