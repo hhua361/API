{
 "cells": [
  {
   "cell_type": "code",
   "execution_count": 3,
   "id": "initial_id",
   "metadata": {
    "collapsed": true,
    "ExecuteTime": {
     "end_time": "2024-06-04T23:26:42.309218Z",
     "start_time": "2024-06-04T23:26:41.573289Z"
    }
   },
   "outputs": [],
   "source": [
    "# 在整个过程中使用到的package\n",
    "import json\n",
    "from openai import OpenAI\n",
    "import os\n",
    "import re"
   ]
  },
  {
   "cell_type": "markdown",
   "source": [
    "分布遍历循环的整个过程：\n",
    "1，将所需要的数据集导入：形态学矩阵信息（以JSON format导入）以及调用API_key\n",
    "2，第一次调用API为整个数据集中所有的species选择一个合适的分类character，将调用的结果（通过initial character根据不同状态将species分为几个组）来作为初始的分类结果\n",
    "3，将这个初始的分类结果保存下来，通过解析这个分类结果，将这个分类结果存储为字典形式\n",
    "4，通过分别依次遍历每个组中的内容，为每个组中的species选择分类character，通过记录下不同组中的分类结果，将其存储在环境中\n",
    "5，通过将多次分布遍历的结果，整合，然后对格式的要求在完善一些，从而来得到一个完整的分类检索表，最终在整合结果的过程中选择合适的方法和格式进行优化"
   ],
   "metadata": {
    "collapsed": false
   },
   "id": "f896c739619248e4"
  },
  {
   "cell_type": "markdown",
   "source": [
    "1，导入形态学矩阵数据集信息（JSON format）and 调用API_key"
   ],
   "metadata": {
    "collapsed": false
   },
   "id": "749396f45d88695a"
  },
  {
   "cell_type": "code",
   "outputs": [],
   "source": [
    "# 调用环境中的API_KEY\n",
    "client = OpenAI(api_key=os.getenv(\"OPENAI_API_KEY\"))\n",
    "# 首先导入需要的数据集\n",
    "with open(\"D:/桌面/TEST-KG/nexus fix/matrix_knowledge_graph_22.json\", \"r\", encoding=\"utf-8\") as file:\n",
    "    matrix_data = json.load(file)\n",
    "# 由于输入的内容为JSON格式，因此在调用给API时需要将这个JSON文件\n",
    "matrix_data_str = json.dumps(matrix_data, ensure_ascii=False)"
   ],
   "metadata": {
    "collapsed": false,
    "ExecuteTime": {
     "end_time": "2024-06-04T23:26:44.349111Z",
     "start_time": "2024-06-04T23:26:44.121173Z"
    }
   },
   "id": "bb11b04492a3c684",
   "execution_count": 4
  },
  {
   "cell_type": "markdown",
   "source": [
    "2，调用API选择初始分类character\n",
    "通过基于information gain方法来为整个数据集中的所有species选择initial character，根据initial character的不同特征状态来获得不同的分组情况"
   ],
   "metadata": {
    "collapsed": false
   },
   "id": "44507673047ce84c"
  },
  {
   "cell_type": "code",
   "outputs": [
    {
     "name": "stdout",
     "output_type": "stream",
     "text": [
      "# Initial Character Classify Result #\n",
      "\n",
      "Based on the provided morphological matrix, I have calculated the information gain for each character and selected the character with the highest information gain for the initial classification. The character with the highest information gain is **Character1**.\n",
      "\n",
      "Here is the categorization of species based on the states of **Character1**:\n",
      "\n",
      "- **State: 1**\n",
      "  - Equisetum_litorale\n",
      "  - Equisetum_palustre\n",
      "\n",
      "- **State: 2**\n",
      "  - Equisetum_pratense\n",
      "  - Equisetum_hyemale\n",
      "  - Equisetum_moorei\n",
      "  - Equisetum_ramosissimum\n",
      "  - Equisetum_trachyodon\n",
      "  - Equisetum_variegatum\n",
      "\n",
      "- **State: 1 and 2**\n",
      "  - Equisetum_arvense\n",
      "  - Equisetum_telmateia\n",
      "  - Equisetum_sylvaticum\n",
      "  - Equisetum_fluviatile\n",
      "\n",
      "This is the initial classification based on **Character1**. Further classification within each group will be performed in subsequent steps.\n"
     ]
    }
   ],
   "source": [
    "# 这是输入给API的相关prompt，通过使用client.chat.completions.create接口来进行多轮次对话。通过赋予对话信息中不同的角色身份，包括user，assistant，system，来实现完整的将所有的输入信息传递给调用的API模型\n",
    "messages = [\n",
    "            # 对模型设置系统身份，使其能够专项于分类学任务，同时在系统构建中强调其对形态学矩阵，information gain以及分类检索表的构建\n",
    "            {\"role\":\"system\",\n",
    "             \"content\":\n",
    "                 \"You are a helpful taxonomist assistant.\"+ \\\n",
    "                 \"You are skilled at calculating the correct information gain to choose the character that best divides species into even groups based on their states.\" +\\\n",
    "                 \"Based on the selected character, classify the species into different groups according to their states.\" + \\\n",
    "                 \"For each group with more than two species, continue selecting characters to further classify this group until each group only has one species.\" + \\\n",
    "                 \"After multiple classifications, determine the final classification levels and record each classifying character and its state. \" + \\\n",
    "                 \"Finally, generate a taxonomic key.\"},\n",
    "            # 通过输入主要的任务请求，构建检索表以及强调在进行分类时所需要采取的细节：主要目的，information gain进行计算，忽略无效状态干扰，明确多特征状态，information gain选择的意义指引其正确的选择，规范输出结果的最终格式，以便于在后续对该API结果的提取\n",
    "            {\"role\":\"system\",\n",
    "            \"content\": \"\"\"\n",
    "                Generate the taxonomic key based on the provided morphological matrix. The matrix includes all species and their different states for each character.\\n\n",
    "                The process involves selecting a character to classify the species into groups. Repeat this classification within each subgroup until each group contains only one species.\\n\n",
    "                Information gain measures how much the uncertainty in the dataset is reduced after using a character for classification. It helps in selecting characters that minimize the entropy of the subset after classification, leading to better classification results.\\n\n",
    "                Please select the initial classification character for all species based on the morphological matrix and information gain methods.\\n\n",
    "                In the morphological matrix, 'Missing' and 'Not applicable' are invalid states. If a character has invalid states for the group being classified, it should be ignored.\\n\n",
    "                States are represented by numbers, and like the '1 and 2' means multiple states should be treated as a single state type. The initial character should have no more than three state types.\\n\n",
    "                you need to calculate the information gain for each character, and choose the highest information gain result, The higher the Information Gain result, the greater the contribution of the feature to the classification.\\n\n",
    "                Now I will show you the morphological matrix. Please provide only the initial classification character and the categorization of species based on its state, and you should singly show this called as # initial character classify result # \n",
    "            \"\"\"},\n",
    "            # 通过使用assistant来对输入给API的prompt内容进行总结和细化，通过assistant中的对话在深化给API对于这个内容的理解，来一定程度上的控制API的响应结果的控制，规范API响应结果的输出格式\n",
    "            {\"role\": \"assistant\",\n",
    "            \"content\": \"\"\"\n",
    "                Understood. I will generate the taxonomic key based on the provided morphological matrix. Here is a summary of the steps I will follow:\\n\n",
    "                1. The matrix includes all species and their different states for each character.\\n\n",
    "                2. I will select a character to classify the species into groups and repeat this classification within each subgroup until each group contains only one species.\\n\n",
    "                3. I will use information gain to measure how much the uncertainty in the dataset is reduced after using a feature for classification. This helps in selecting features that minimize the entropy of the subset after classification, leading to better classification results.\\n\n",
    "                4. I will select the initial classification character for all species based on the morphological matrix and information gain methods.\\n\n",
    "                5. In the morphological matrix, 'Missing' and 'Not applicable' are considered invalid states. If a character has invalid states for the group being classified, it will be ignored.\\n\n",
    "                6. States are represented by numbers. For example, '1 and 2' means multiple states should be treated as a single state type. The initial character should have no more than three state types.\\n\n",
    "                7. I will use information gain to calculate all character and choose the highest information gain result, The higher the Information Gain result, the greater the contribution of the feature to the classification. \\n\n",
    "                8. The final result will provide only the initial classification character and the categorization of species based on its state. \\n\n",
    "                9. Don't need to show how i calculate, only need to show the final result, and i will store result in #initail character classify result# block\n",
    "                Please provide the morphological matrix data so that I can proceed with the initial classification.\n",
    "            \"\"\"\n",
    "            },\n",
    "            # 输入对应的形态学矩阵信息，让其进行分析\n",
    "            {\"role\":\"user\",\n",
    "             \"content\":\n",
    "                 f\"Here is morphological matrix:{matrix_data_str}\"}\n",
    "            ]\n",
    "# 设置在响应API时需要调控的各个参数，我感觉温度最好是调成0，然后max_token数要么不参与设置，要不然就不能设置太多，一是为了节约成本，二是为了生成对应的结果并不需要太长，如果token数量太大但是又没有设置终止符就会导致最终的结果出现复杂的冗余以及错误\n",
    "initial_character_info =  client.chat.completions.create(\n",
    "        model=\"gpt-4o\",\n",
    "        messages=messages,\n",
    "        stop=None,\n",
    "        max_tokens=512,\n",
    "        temperature=0,\n",
    "        n = 1)\n",
    "# 存储API调用响应的结果，存储为文件（当讲后续分布API调用循环所连接起来时，需要考虑存储在环境变量中，以便于之后连续的调用修饰）\n",
    "initial_response = initial_character_info.choices[0].message.content\n",
    "with open(\"D:/桌面/TEST-KG/nexus fix/initial_character_info\", 'w') as file:\n",
    "    file.write(initial_response)\n",
    "print(initial_response)"
   ],
   "metadata": {
    "collapsed": false,
    "ExecuteTime": {
     "end_time": "2024-06-04T23:33:22.880777Z",
     "start_time": "2024-06-04T23:33:18.569320Z"
    }
   },
   "id": "23a29a7e3526dd9c",
   "execution_count": 8
  },
  {
   "cell_type": "markdown",
   "source": [
    "3，保存初始调用API的结果，进行解析，存储为字典模式作为一个新的变量（**这个地方存在一个可能的挑战就是这个解析的过程，为了后续的分布循环进行，这一步的解析结果十分关键，但是解析的function需要对于API响应的结果进行调用，尽管在API的响应的prompt中明确规范了最终输出的内容，但是由于LLM的随机性等原因，我也无法保证每次解析都能够设置准确的结果（设置种子或者调整解析格式））"
   ],
   "metadata": {
    "collapsed": false
   },
   "id": "9a187a5fff0a9e55"
  },
  {
   "cell_type": "code",
   "outputs": [
    {
     "name": "stdout",
     "output_type": "stream",
     "text": [
      "{'1': ['Equisetum_litorale', 'Equisetum_palustre'], '2': ['Equisetum_pratense', 'Equisetum_hyemale', 'Equisetum_moorei', 'Equisetum_ramosissimum', 'Equisetum_trachyodon', 'Equisetum_variegatum'], '1 and 2': ['Equisetum_arvense', 'Equisetum_telmateia', 'Equisetum_sylvaticum', 'Equisetum_fluviatile']}\n",
      "State 1: Equisetum_litorale, Equisetum_palustre\n",
      "State 2: Equisetum_pratense, Equisetum_hyemale, Equisetum_moorei, Equisetum_ramosissimum, Equisetum_trachyodon, Equisetum_variegatum\n",
      "State 1 and 2: Equisetum_arvense, Equisetum_telmateia, Equisetum_sylvaticum, Equisetum_fluviatile\n"
     ]
    }
   ],
   "source": [
    "# 读取初始字符信息\n",
    "with open(\"D:/桌面/TEST-KG/nexus fix/initial_character_info\", \"r\", encoding=\"utf-8\") as file:\n",
    "    initial_character = file.read()\n",
    "    # 可以通过使用 print(initial_character)\n",
    "# 定义用于解析API响应结果的函数\n",
    "def parse_classification_result(result_text):\n",
    "    classification = {}\n",
    "    # 使用正则表达式匹配每个状态块\n",
    "    state_sections = re.findall(r'- \\*\\*State: ([\\d\\s\\w&]+)\\*\\*\\n((?:\\s*-\\s[A-Za-z_]+\\n)+)', result_text)\n",
    "    for state, species_block in state_sections:\n",
    "        # 匹配物种列表\n",
    "        species_list = re.findall(r'- ([A-Za-z_]+)', species_block)\n",
    "        classification[state.strip()] = species_list\n",
    "    return classification\n",
    "\n",
    "# 解析初始分类结果\n",
    "parsed_initial_classification = parse_classification_result(initial_character)\n",
    "print(parsed_initial_classification)\n",
    "\n",
    "# 示例输出解析结果\n",
    "# for state, species in parsed_initial_classification.items():\n",
    "    # print(f\"State {state}: {', '.join(species)}\")\n"
   ],
   "metadata": {
    "collapsed": false,
    "ExecuteTime": {
     "end_time": "2024-06-05T00:35:16.269729Z",
     "start_time": "2024-06-05T00:35:16.264626Z"
    }
   },
   "id": "e6d0eb358d3a0ecd",
   "execution_count": 17
  },
  {
   "cell_type": "markdown",
   "source": [
    "此处的结果显示为（通过解析存储为一种字典格式来分别调用哪一行）："
   ],
   "metadata": {
    "collapsed": false
   },
   "id": "3c67c37cd73d0fc8"
  },
  {
   "cell_type": "code",
   "outputs": [
    {
     "name": "stdout",
     "output_type": "stream",
     "text": [
      "['Equisetum_litorale', 'Equisetum_palustre']\n",
      "['Equisetum_pratense', 'Equisetum_hyemale', 'Equisetum_moorei', 'Equisetum_ramosissimum', 'Equisetum_trachyodon', 'Equisetum_variegatum']\n",
      "['Equisetum_arvense', 'Equisetum_telmateia', 'Equisetum_sylvaticum', 'Equisetum_fluviatile']\n",
      "State 1: ['Equisetum_litorale', 'Equisetum_palustre'] State 2: ['Equisetum_pratense', 'Equisetum_hyemale', 'Equisetum_moorei', 'Equisetum_ramosissimum', 'Equisetum_trachyodon', 'Equisetum_variegatum'] State 3: ['Equisetum_arvense', 'Equisetum_telmateia', 'Equisetum_sylvaticum', 'Equisetum_fluviatile']\n"
     ]
    }
   ],
   "source": [
    "# 此处为通过使用解析function对于initial character中所调用响应的结果\n",
    "\n",
    "initial_classification = {\n",
    "    \"1\": [\"Equisetum_litorale\", \"Equisetum_palustre\"],\n",
    "    \"2\": [\"Equisetum_pratense\", \"Equisetum_hyemale\", \"Equisetum_moorei\", \"Equisetum_ramosissimum\", \"Equisetum_trachyodon\", \"Equisetum_variegatum\"],\n",
    "    \"1 and 2\": [\"Equisetum_arvense\", \"Equisetum_telmateia\", \"Equisetum_sylvaticum\", \"Equisetum_fluviatile\"]\n",
    "}\n",
    "\n",
    "# 用于存储所有值的列表\n",
    "groups = []\n",
    "# 遍历字典中的每一个键值对，并将值存储在列表中，这是为后续设置分布循环设置基础，对于一个字典内容中的各个键值调用存储到一个变量中然后可以多次循环这几个变量最终存储结果\n",
    "for state, species_list in initial_classification.items():\n",
    "    groups.append(species_list)\n",
    "# 打印存储在列表中的结果\n",
    "for i, group in enumerate(groups, 1):\n",
    "    print(f\"Group {i} species:\", group)\n",
    "group_1_species = groups[0]\n",
    "group_2_species = groups[1]\n",
    "group_3_species = groups[2]\n",
    "print(f\"State 1: {group_1_species}\",f\"State 2: {group_2_species}\",f\"State 3: {group_3_species}\")"
   ],
   "metadata": {
    "collapsed": false,
    "ExecuteTime": {
     "end_time": "2024-06-05T02:19:14.476640Z",
     "start_time": "2024-06-05T02:19:14.470065Z"
    }
   },
   "id": "a28bc91bb0f72366",
   "execution_count": 65
  },
  {
   "cell_type": "markdown",
   "source": [
    "4，通过分别依次遍历每个组中的内容，为每个组中的species选择分类character（即我想要实现的分布循环调用API）（**但是目前我还没有很好的构建这个循环的结果，因此我可以目前先使用一种比较简单的方式，来测试对于不同组别中的调用的信息进行API调用）"
   ],
   "metadata": {
    "collapsed": false
   },
   "id": "37d06e035518c498"
  },
  {
   "cell_type": "code",
   "outputs": [
    {
     "name": "stdout",
     "output_type": "stream",
     "text": [
      "# Character Classification Result\n",
      "\n",
      "## Step 1: Initial Classification\n",
      "\n",
      "### Selected Character: Character1\n",
      "\n",
      "- **State 1**: Equisetum_litorale, Equisetum_palustre\n",
      "\n",
      "## Step 2: Further Classification within State 1\n",
      "\n",
      "### Selected Character: Character4\n",
      "\n",
      "- **State 1**: Equisetum_litorale\n",
      "- **State 1 and 2**: Equisetum_palustre\n",
      "\n",
      "# Taxonomic Key\n",
      "\n",
      "1. **Character1**\n",
      "   - **State 1**\n",
      "     1. **Character4**\n",
      "        - **State 1**: Equisetum_litorale\n",
      "        - **State 1 and 2**: Equisetum_palustre\n"
     ]
    }
   ],
   "source": [
    "# 通过对initial character的不同特征状态得到的species分类结果：对于key 1 即state 1进行进一步的分类\n",
    "client = OpenAI(api_key=os.getenv(\"OPENAI_API_KEY\"))\n",
    "# 在每一次需要进行分类分析时，可以直接加载完整的形态学矩阵信息重新写入给API调用，这样可以避免API在进行reload时出现计算冗余，因此产生额外的计算负担\n",
    "# 如果需要构建一个循环的话，或许可以使用这个方法将这个result设置为一个存储的空列表\n",
    "# 设置一个空list用于存储results = {}\n",
    "# 将所有的result[0],result[1],result[2]有一个有效的方法是通过将这个序号之前字典中对键值的存储序号所统一，因此统一这个[i]\n",
    "results = {}\n",
    "\n",
    "with open(\"D:/桌面/TEST-KG/nexus fix/matrix_knowledge_graph_22.json\", \"r\") as file:\n",
    "    data = json.load(file)\n",
    "\n",
    "    messages2 = [\n",
    "            {\"role\": \"system\",\n",
    "             \"content\":\"\"\"\n",
    "                 You are a helpful taxonomist assistant.\\n\n",
    "                 You are skilled at calculating the correct information gain to choose the character that best divides species into even groups based on their states.\\n\n",
    "                 Based on the selected character, classify the species into different groups according to their states.\\n\n",
    "                 For each group with more than two species, continue selecting characters to further classify this group until each group only has one species.\\n\n",
    "                 After multiple classifications, determine the final classification levels and record each classifying character and its state.\\n\n",
    "                 Finally, generate a taxonomic key.\n",
    "                 \"\"\"},\n",
    "            {\"role\": \"system\",\n",
    "             \"content\":\"\"\"\n",
    "                Generate the taxonomic key based on the provided morphological matrix. \\n\n",
    "                The process involves selecting a character to classify the species into groups. Repeat this classification within each subgroup until each group contains only one species.\n",
    "                Information gain measures how much the uncertainty in the dataset is reduced after using a character for classification. It helps in selecting characters that minimize the entropy of the subset after classification, leading to better classification results.\n",
    "                Please select the classification character for these group's species based on the morphological matrix and information gain methods.\n",
    "                In the morphological matrix, 'Missing' and 'Not applicable' are invalid states. If a character has invalid states for the group being classified, it should be ignored.\n",
    "                States are represented by numbers. For example, '1 and 2' means multiple states should be treated as a single state type and this multi-state characterization should not be confused with the single states within it.The initial character should have no more than three state types.\n",
    "                You need to calculate the information gain for each character and choose the highest information gain result. The higher the information gain result, the greater the contribution of the feature to the classification.\n",
    "                After selecting the initial classification character and categorizing the species based on its state, repeat the process within each subgroup. For each subgroup, select the character with the highest information gain to further classify the species. Continue this process recursively until each group contains only one species.\n",
    "                Now I will show you the morphological matrix. Please provide the classification character and the categorization of species based on its state. Then, continue to classify each subgroup recursively, showing the chosen character and categorization for each subgroup. Please present the result in a structured format, with each step clearly labeled.\n",
    "                please don't show how you analysis and calculate, please show me the final result           \n",
    "            \"\"\"},\n",
    "            {\"role\": \"assistant\",\n",
    "             \"content\": \"\"\"\n",
    "                Understood. I will generate the taxonomic key based on the provided morphological matrix. Here is a summary of the steps I will follow:\\n\n",
    "                1. The matrix includes all species and their different states for each character.\\n\n",
    "                2. I will select a character to classify the species into groups and repeat this classification within each subgroup until each group contains only one species.\\n\n",
    "                3. I will use information gain to measure how much the uncertainty in the dataset is reduced after using a feature for classification. This helps in selecting features that minimize the entropy of the subset after classification, leading to better classification results.\\n\n",
    "                4. I will select the classification character for the group's species based on the morphological matrix and information gain methods.\\n\n",
    "                5. In the morphological matrix, 'Missing' and 'Not applicable' are considered invalid states. If a character has invalid states for the group being classified, it will be ignored.\\n\n",
    "                6. States are represented by numbers. For example, '1 and 2' means multiple states should be treated as a single state type, and This multi-state characterization should not be confused with the individual states within it. The classification character should have no more than three state types.\\n\n",
    "                7. I will use information gain to calculate all character and choose the highest inforamtion gain result, The higher the Information Gain result, the greater the contribution of the feature to the classification. \\n\n",
    "                8. The final result will provide only the initial classification character and the categorization of species based on its state. \\n\n",
    "                9. Don't need to show how the process about choose, only need to show the final result, and i will store result in #character classify result# block\n",
    "                Please provide the group morphological matrix data so that I can proceed with the classification.\n",
    "             \"\"\"},\n",
    "            # 在此处导入数据类型的时候，考虑直接通过之前在字典中存储的内容，来选择调用字典中不同的键值，以及再结合最开始的\n",
    "            {\"role\": \"user\", \"content\": f\"Here is the group information need to be classify: {groups[0]}, and here is the morphological matrix{json.dumps(data)}\"}\n",
    "        ]\n",
    "    response =  client.chat.completions.create(\n",
    "            model=\"gpt-4o\",\n",
    "            messages=messages2,\n",
    "            stop=None,\n",
    "            temperature=0,\n",
    "            max_tokens=1000,\n",
    "            n = 1\n",
    "    )\n",
    "    results[0] = response.choices[0].message.content\n",
    "    result1 = results[0]\n",
    "print(results[0])"
   ],
   "metadata": {
    "collapsed": false,
    "ExecuteTime": {
     "end_time": "2024-06-05T01:44:25.317384Z",
     "start_time": "2024-06-05T01:44:21.729004Z"
    }
   },
   "id": "f5a14558cc3f513a",
   "execution_count": 48
  },
  {
   "cell_type": "markdown",
   "source": [
    "通过再一次调用API来通过调用存储在字典中不同的键值，来实现对整个过程的分布循环，例如在这个循环的结果中需要调用的是字典中的键2的结果，则实际上是initial character通过state 2得到的为species的最终分类的结果，因此此处的调用是通过group_2_species，实际上来说可以通过调用groups[2]来调用这个相关的键值，来作为input，如果在后续使用groups[i]，可以通过循环的调用initial_classification字典中存储的结果，通过调用不同的键值来实现调用不同初始特征状态的分类结果，可以使code更加简洁明了，通过使用循环的方式，来减少代码的冗余"
   ],
   "metadata": {
    "collapsed": false
   },
   "id": "57edf1926577c762"
  },
  {
   "cell_type": "code",
   "outputs": [],
   "source": [
    "# 通过对initial character的不同特征状态得到的species分类结果：对于key 2 即state 2进行进一步的分类\n",
    "client = OpenAI(api_key=os.getenv(\"OPENAI_API_KEY\"))\n",
    "# 在每一次需要进行分类分析时，可以直接加载完整的形态学矩阵信息重新写入给API调用，这样可以避免API在进行reload时出现计算冗余，因此产生额外的计算负担\n",
    "with open(\"D:/桌面/TEST-KG/nexus fix/matrix_knowledge_graph_22.json\", \"r\") as file:\n",
    "    data = json.load(file)\n",
    "\n",
    "    messages3 = [\n",
    "            {\"role\": \"system\",\n",
    "             \"content\":\"\"\"\n",
    "                 You are a helpful taxonomist assistant.\\n\n",
    "                 You are skilled at calculating the correct information gain to choose the character that best divides species into even groups based on their states.\\n\n",
    "                 Based on the selected character, classify the species into different groups according to their states.\\n\n",
    "                 For each group with more than two species, continue selecting characters to further classify this group until each group only has one species.\\n\n",
    "                 After multiple classifications, determine the final classification levels and record each classifying character and its state.\\n\n",
    "                 Finally, generate a taxonomic key.\n",
    "                 \"\"\"},\n",
    "            {\"role\": \"system\",\"content\":\"\"\"\n",
    "                Generate the nested taxonomic key based on the provided morphological matrix. \\n\n",
    "                The process involves selecting a character to classify the species into groups. Repeat this classification within each subgroup until each group contains only one species.\n",
    "                Information gain measures how much the uncertainty in the dataset is reduced after using a character for classification. It helps in selecting characters that minimize the entropy of the subset after classification, leading to better classification results.\n",
    "                Please select the classification character for these group's species based on the morphological matrix and information gain methods.\n",
    "                In the morphological matrix, 'Missing' and 'Not applicable' are invalid states. If a character has invalid states for the group being classified, it should be ignored.\n",
    "                States are represented by numbers. For example, '1 and 2' means multiple states should be treated as a single state type and this multi-state characterization should not be confused with the single states within it (the state of '3' and '2 and 3' is different state, when you choose the character to based on the state to distinguish need to careful handle).The initial character should have no more than three state types.\n",
    "                You need to calculate the information gain for each character and choose the highest information gain result. The higher the information gain result, the greater the contribution of the feature to the classification.\n",
    "                After selecting the initial classification character and categorizing the species based on its state, repeat the process within each subgroup. For each subgroup, select the character with the highest information gain to further classify the species. Continue this process recursively until each group contains only one species.\n",
    "                Now I will show you the morphological matrix. Please provide the classification character and the categorization of species based on its state. Then, continue to classify each subgroup recursively, showing the chosen character and categorization for each subgroup. Please present the result in a structured format, with each step clearly labeled.\n",
    "                please don't show how you analysis and calculate, please show me the final result           \n",
    "            \"\"\"},\n",
    "            {\"role\": \"assistant\",\n",
    "             \"content\": \"\"\"\n",
    "                Understood. I will generate the nested taxonomic key based on the provided morphological matrix. Here is a summary of the steps I will follow:\\n\n",
    "                1. The matrix includes all species and their different states for each character.\\n\n",
    "                2. I will select a character to classify the species into groups and repeat this classification within each subgroup until each group contains only one species.\\n\n",
    "                3. I will use information gain to measure how much the uncertainty in the dataset is reduced after using a feature for classification. This helps in selecting features that minimize the entropy of the subset after classification, leading to better classification results.\\n\n",
    "                4. I will select the classification character for the group's species based on the morphological matrix and information gain methods.\\n\n",
    "                5. In the morphological matrix, 'Missing' and 'Not applicable' are considered invalid states. If a character has invalid states for the group being classified, it will be ignored.\\n\n",
    "                6. States are represented by numbers. For example, '2 and 3' means multiple states should be treated as a single state type, and This multi-state characterization should not be confused with the individual states(like '2', '3') within it (such as '3' and '2 and 3'  is the different state, these are two separate states, when i choose character to based on different state to distinguish the species). The classification character should have no more than three state types.\\n\n",
    "                7. I will use information gain to calculate all character and choose the highest information gain result, The higher the Information Gain result, the greater the contribution of the feature to the classification. \\n\n",
    "                8. The final result will provide only the initial classification character and the categorization of species based on its state. \\n\n",
    "                9. Don't need to show how the process about choose, only need to show the final result as nested structure, and i will store result in #character classify result# block\n",
    "                Please provide the group morphological matrix data so that I can proceed with the classification.\n",
    "             \"\"\"},\n",
    "            # 在此处导入数据类型的时候，考虑直接通过之前在字典中存储的内容，来选择调用字典中不同的键值，以及再结合最开始的\n",
    "            {\"role\": \"user\", \"content\": f\"Here is the group information need to be classify: {groups[1]}, and here is the morphological matrix{json.dumps(data)}\"}\n",
    "        ]\n",
    "    response =  client.chat.completions.create(\n",
    "            model=\"gpt-4o\",\n",
    "            messages=messages3,\n",
    "            stop=None,\n",
    "            temperature=0,\n",
    "            max_tokens=1000,\n",
    "            n = 1\n",
    "    )\n",
    "    result2 = response.choices[0].message.content\n",
    "print(result2)"
   ],
   "metadata": {
    "collapsed": false
   },
   "id": "5d91dbea406827f2"
  },
  {
   "cell_type": "markdown",
   "source": [
    "重复上面的过程，通过对initial character中的不同特征状态得到的结果，继续重复循环字典initial_classification中的存储的键值，来实现完整的分类"
   ],
   "metadata": {
    "collapsed": false
   },
   "id": "daa6c88ac2a0c3a7"
  },
  {
   "cell_type": "code",
   "outputs": [],
   "source": [
    "# 通过对initial character的不同特征状态得到的species分类结果：对于key 2 即state 2进行进一步的分类\n",
    "client = OpenAI(api_key=os.getenv(\"OPENAI_API_KEY\"))\n",
    "# 在每一次需要进行分类分析时，可以直接加载完整的形态学矩阵信息重新写入给API调用，这样可以避免API在进行reload时出现计算冗余，因此产生额外的计算负担\n",
    "with open(\"D:/桌面/TEST-KG/nexus fix/matrix_knowledge_graph_22.json\", \"r\") as file:\n",
    "    data = json.load(file)\n",
    "\n",
    "    messages3 = [\n",
    "            {\"role\": \"system\",\n",
    "             \"content\":\"\"\"\n",
    "                 You are a helpful taxonomist assistant.\\n\n",
    "                 You are skilled at calculating the correct information gain to choose the character that best divides species into even groups based on their states.\\n\n",
    "                 Based on the selected character, classify the species into different groups according to their states.\\n\n",
    "                 For each group with more than two species, continue selecting characters to further classify this group until each group only has one species.\\n\n",
    "                 After multiple classifications, determine the final classification levels and record each classifying character and its state.\\n\n",
    "                 Finally, generate a taxonomic key.\n",
    "                 \"\"\"},\n",
    "            {\"role\": \"system\",\"content\":\"\"\"\n",
    "                Generate the taxonomic key based on the provided morphological matrix. \\n\n",
    "                The process involves selecting a character to classify the species into groups. Repeat this classification within each subgroup until each group contains only one species.\n",
    "                Information gain measures how much the uncertainty in the dataset is reduced after using a character for classification. It helps in selecting characters that minimize the entropy of the subset after classification, leading to better classification results.\n",
    "                Please select the classification character for these group's species based on the morphological matrix and information gain methods.\n",
    "                In the morphological matrix, 'Missing' and 'Not applicable' are invalid states. If a character has invalid states for the group being classified, it should be ignored.\n",
    "                States are represented by numbers. For example, '1 and 2' means multiple states should be treated as a single state type and this multi-state characterization should not be confused with the single states within it.The initial character should have no more than three state types.\n",
    "                You need to calculate the information gain for each character and choose the highest information gain result. The higher the information gain result, the greater the contribution of the feature to the classification.\n",
    "                After selecting the initial classification character and categorizing the species based on its state, repeat the process within each subgroup. For each subgroup, select the character with the highest information gain to further classify the species. Continue this process recursively until each group contains only one species.\n",
    "                Now I will show you the morphological matrix. Please provide the classification character and the categorization of species based on its state. Then, continue to classify each subgroup recursively, showing the chosen character and categorization for each subgroup. Please present the result in a structured format, with each step clearly labeled.\n",
    "                please don't show how you analysis and calculate, please show me the final result           \n",
    "            \"\"\"},\n",
    "            {\"role\": \"assistant\",\n",
    "             \"content\": \"\"\"\n",
    "                Understood. I will generate the taxonomic key based on the provided morphological matrix. Here is a summary of the steps I will follow:\\n\n",
    "                1. The matrix includes all species and their different states for each character.\\n\n",
    "                2. I will select a character to classify the species into groups and repeat this classification within each subgroup until each group contains only one species.\\n\n",
    "                3. I will use information gain to measure how much the uncertainty in the dataset is reduced after using a feature for classification. This helps in selecting features that minimize the entropy of the subset after classification, leading to better classification results.\\n\n",
    "                4. I will select the classification character for the group's species based on the morphological matrix and information gain methods.\\n\n",
    "                5. In the morphological matrix, 'Missing' and 'Not applicable' are considered invalid states. If a character has invalid states for the group being classified, it will be ignored.\\n\n",
    "                6. States are represented by numbers. For example, '1 and 2' means multiple states should be treated as a single state type, and This multi-state characterization should not be confused with the individual states within it (should distinguish '3' and '2 and 3'，it is different state). The classification character should have no more than three state types.\\n\n",
    "                7. I will use information gain to calculate all character and choose the highest information gain result, The higher the Information Gain result, the greater the contribution of the feature to the classification. \\n\n",
    "                8. The final result will provide only the initial classification character and the categorization of species based on its state. \\n\n",
    "                9. Don't need to show how the process about choose, only need to show the final result, and i will store result in #character classify result# block\n",
    "                Please provide the group morphological matrix data so that I can proceed with the classification.\n",
    "             \"\"\"},\n",
    "            # 在此处导入数据类型的时候，考虑直接通过之前在字典中存储的内容，来选择调用字典中不同的键值，以及再结合最开始的\n",
    "            {\"role\": \"user\", \"content\": f\"Here is the group information need to be classify: {groups[2]}, and here is the morphological matrix{json.dumps(data)}\"}\n",
    "        ]\n",
    "    response =  client.chat.completions.create(\n",
    "            model=\"gpt-4o\",\n",
    "            messages=messages3,\n",
    "            stop=None,\n",
    "            temperature=0,\n",
    "            max_tokens=1000,\n",
    "            n = 1\n",
    "    )\n",
    "    result3 = response.choices[0].message.content\n",
    "print(result3)"
   ],
   "metadata": {
    "collapsed": false
   },
   "id": "50e8b020b1e56160"
  },
  {
   "cell_type": "markdown",
   "source": [
    "5，通过将多次分布遍历的结果（目前存在三次遍历结果的重复循环，因为基于初始的character的状态特征分为了三个组），整合（然后通过分别记录每个loop的结果，将其存储提取在一个list中，例如我可以规定在prompt中需要对每个分类的最终结果都以#taxonomic_information#存储，因此为了避免出现其他分析的冗余结果，我们可以将这个block（#taxonomic_information#）单独提取出来信息，来进行整合处理），然后对格式的要求在完善一些，从而来得到一个完整的分类检索表，最终在整合结果的过程中选择合适的方法和格式进行优化"
   ],
   "metadata": {
    "collapsed": false
   },
   "id": "918ae32d57677a8c"
  },
  {
   "cell_type": "code",
   "outputs": [
    {
     "ename": "NameError",
     "evalue": "name 'result1' is not defined",
     "output_type": "error",
     "traceback": [
      "\u001B[1;31m---------------------------------------------------------------------------\u001B[0m",
      "\u001B[1;31mNameError\u001B[0m                                 Traceback (most recent call last)",
      "Cell \u001B[1;32mIn[1], line 17\u001B[0m\n\u001B[0;32m     14\u001B[0m         \u001B[38;5;28;01mreturn\u001B[39;00m \u001B[38;5;28;01mNone\u001B[39;00m\n\u001B[0;32m     16\u001B[0m \u001B[38;5;66;03m# 提取每个结果中的所需部分\u001B[39;00m\n\u001B[1;32m---> 17\u001B[0m final_taxonomic_key1 \u001B[38;5;241m=\u001B[39m extract_final_taxonomic_key(\u001B[43mresult1\u001B[49m)\n\u001B[0;32m     18\u001B[0m final_taxonomic_key2 \u001B[38;5;241m=\u001B[39m extract_final_taxonomic_key(result2)\n\u001B[0;32m     19\u001B[0m final_taxonomic_key3 \u001B[38;5;241m=\u001B[39m extract_final_taxonomic_key(result3)\n",
      "\u001B[1;31mNameError\u001B[0m: name 'result1' is not defined"
     ]
    }
   ],
   "source": [
    "#通过对之间进行分布遍历循环获得的每一步的结果，即对initial character中的所有不同特征状态的分类结果，再次调用API时进行分类的结果\n",
    "# print(result1)\n",
    "# print(result2)\n",
    "# print(result3)\n",
    "# 需要提取出这三个部分中最关键的部分，即在每个subgroup中存在的species的分类路径\n",
    "# 在每个分布循环的结果中，我们需要规定对于最终产生的中应该将对于每个subgroup中的species的分类结果存储在block（Final Taxonomic Key），然后通过构建提取的函数来摘取出其中最终得到的分类信息\n",
    "\n",
    "# 定义一个函数来提取每个结果中的所需部分\n",
    "def extract_final_taxonomic_key(result):\n",
    "    match = re.search(r'Final Taxonomic Key(.*)', result, re.DOTALL)\n",
    "    if match:\n",
    "        return match.group(1).strip()\n",
    "    else:\n",
    "        return None\n",
    "\n",
    "# 提取每个结果中的所需部分\n",
    "final_taxonomic_key1 = extract_final_taxonomic_key(result1)\n",
    "final_taxonomic_key2 = extract_final_taxonomic_key(result2)\n",
    "final_taxonomic_key3 = extract_final_taxonomic_key(result3)\n",
    "\n",
    "# 打印提取的结果\n",
    "print(\"Final Taxonomic Key 1:\\n\", final_taxonomic_key1)\n",
    "print(\"Final Taxonomic Key 2:\\n\", final_taxonomic_key2)\n",
    "print(\"Final Taxonomic Key 3:\\n\", final_taxonomic_key3)"
   ],
   "metadata": {
    "collapsed": false,
    "ExecuteTime": {
     "end_time": "2024-06-07T02:34:06.815742Z",
     "start_time": "2024-06-07T02:34:06.616395Z"
    }
   },
   "id": "58bb33c6bf287310",
   "execution_count": 1
  },
  {
   "cell_type": "code",
   "outputs": [],
   "source": [
    "\n"
   ],
   "metadata": {
    "collapsed": false
   },
   "id": "f181278f70b7211"
  },
  {
   "cell_type": "markdown",
   "source": [],
   "metadata": {
    "collapsed": false
   },
   "id": "5e2fbfbe395aa20c"
  },
  {
   "cell_type": "markdown",
   "source": [],
   "metadata": {
    "collapsed": false
   },
   "id": "19405f20bc155b4b"
  },
  {
   "cell_type": "markdown",
   "source": [],
   "metadata": {
    "collapsed": false
   },
   "id": "aba9395447b9277f"
  }
 ],
 "metadata": {
  "kernelspec": {
   "display_name": "Python 3",
   "language": "python",
   "name": "python3"
  },
  "language_info": {
   "codemirror_mode": {
    "name": "ipython",
    "version": 2
   },
   "file_extension": ".py",
   "mimetype": "text/x-python",
   "name": "python",
   "nbconvert_exporter": "python",
   "pygments_lexer": "ipython2",
   "version": "2.7.6"
  }
 },
 "nbformat": 4,
 "nbformat_minor": 5
}
