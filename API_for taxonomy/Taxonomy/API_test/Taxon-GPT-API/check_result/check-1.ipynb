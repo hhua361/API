{
 "cells": [
  {
   "cell_type": "markdown",
   "source": [
    "这是关于解析初始分类结果的code（添加了对应的报错处理，来帮助检查解析过程中出现错误的原因）"
   ],
   "metadata": {
    "collapsed": false
   },
   "id": "32d665c3ca3ca26e"
  },
  {
   "cell_type": "code",
   "execution_count": null,
   "id": "initial_id",
   "metadata": {
    "collapsed": true
   },
   "outputs": [],
   "source": [
    "import re\n",
    "initial_response = \"\"\"\n",
    "{\n",
    "    \"Character\": \"Character1\",\n",
    "    \"States\": {\n",
    "        \"1\": [\"Diphasiastrum_alpinum\", \"Diphasiastrum_complanatum\", \"Huperzia_selago\", \"Lycopodiella_inundata\", \"Lycopodium_annotinum\", \"Lycopodium_clavatum\", \"Selaginella_kraussiana\", \"Selaginella_selaginoides\"],\n",
    "        \"2\": [\"Isoetes_echinospora\", \"Isoetes_histrix\", \"Isoetes_lacustris\"]\n",
    "    }\n",
    "}\n",
    "\"\"\"\n",
    "\n",
    "def parse_classification_result(result_text):\n",
    "        classification = {\"Character\": None, \"States\": {}}\n",
    "        try:\n",
    "            # 尝试匹配Character\n",
    "            character_match = re.search(r'\"Character\": \"([^\"]+)\"', result_text)\n",
    "            if character_match:\n",
    "                classification[\"Character\"] = character_match.group(1)\n",
    "            else:\n",
    "                raise ValueError(\"Character not found in the result text.\")\n",
    "\n",
    "            # 尝试匹配各个State和对应的species\n",
    "            state_sections = re.findall(r'\"(\\d+|[^\"]+)\":\\s*\\[(.*?)\\]', result_text)\n",
    "            if not state_sections:\n",
    "                raise ValueError(\"No states found in the result text.\")\n",
    "\n",
    "            for state, species_block in state_sections:\n",
    "                species_list = re.findall(r'\"([^\"]+)\"', species_block)\n",
    "                if not species_list:\n",
    "                    raise ValueError(f\"No species found for state {state}.\")\n",
    "                classification[\"States\"][state] = species_list\n",
    "\n",
    "        except Exception as e:\n",
    "            print(f\"Error parsing classification result: {e}\")\n",
    "            # 可以根据需求决定在遇到错误时是否返回空的分类结果或抛出异常\n",
    "            raise e  # 或者 return classification\n",
    "\n",
    "        return classification\n",
    "\n",
    "parsed_initial_classification = parse_classification_result(initial_response)\n",
    "print(initial_response)"
   ]
  },
  {
   "cell_type": "markdown",
   "source": [
    "这是关于循环调用部分的问题，为了避免出现错误，所以需要要在递归中加入递归深度，同时可以增加对应的报错处理"
   ],
   "metadata": {
    "collapsed": false
   },
   "id": "2878132dec26568d"
  },
  {
   "cell_type": "code",
   "outputs": [],
   "source": [
    "import json\n",
    "def recursive_classification(groups, final_classification, classification_results, depth=0, max_depth=10):\n",
    "    \"\"\"\n",
    "    Recursive classification function to process groups and store results.\n",
    "    :param groups: Groups to be processed\n",
    "    :param final_classification: Final classification result\n",
    "    :param classification_results: Classification results\n",
    "    :param depth: Current recursion depth\n",
    "    :param max_depth: Maximum recursion depth\n",
    "    :return: Final classification result\n",
    "    \"\"\"\n",
    "    # Continue looping while the groups list is not empty\n",
    "    while groups:\n",
    "        try:\n",
    "            # Pop the first group from the list, getting the state and current group of species\n",
    "            state, current_group = groups.pop(0)\n",
    "            print(f\"Processing group with state: {state}, species: {current_group}, at depth: {depth}\")\n",
    "\n",
    "            # If the current group has only one species, add it to the final classification\n",
    "            if len(current_group) == 1:\n",
    "                final_classification[current_group[0]] = current_group\n",
    "            # If the current recursion depth has reached the maximum depth, stop further classification\n",
    "            elif depth >= max_depth:\n",
    "                print(f\"Reached max depth {max_depth}. Stopping further classification for group: {current_group}\")\n",
    "                final_classification[state] = current_group\n",
    "            else:\n",
    "                # Call the classify_group function to classify the current group\n",
    "                classification_result = classify_group(current_group)\n",
    "                # Store the classification result in classification_results\n",
    "                classification_results[state] = classification_result\n",
    "\n",
    "                # Parse the classification result, create new subgroups, and add them to groups for further classification\n",
    "                new_groups = []\n",
    "                parsed_result = parse_classification_result(classification_result)\n",
    "                for new_state, new_species_list in parsed_result[\"States\"].items():\n",
    "                    new_groups.append((new_state, new_species_list))\n",
    "\n",
    "                # Recursively call itself to process new subgroups, increasing the recursion depth\n",
    "                recursive_classification(new_groups, final_classification, classification_results, depth + 1, max_depth)\n",
    "\n",
    "        except Exception as e:\n",
    "            # Catch exceptions and print error messages\n",
    "            print(f\"Error processing group with state: {state}, species: {current_group}, at depth: {depth}\")\n",
    "            print(f\"Exception: {e}\")\n",
    "            raise e\n",
    "\n",
    "    return final_classification\n",
    "\n",
    "\n",
    "# Assume the variables have been initialized\n",
    "# Dictionary to store the final classification result\n",
    "final_classification = {}\n",
    "# Dictionary to store the API classification results for each state\n",
    "classification_results = {}\n",
    "# Set the maximum recursion depth, adjust based on specific needs\n",
    "max_depth = 5  # Can be adjusted based on the hierarchical structure of input data and application requirements\n",
    "# here is the initial character level is about species number need to classify\n",
    "# Call the recursive classification function to process groups and store results\n",
    "final_classification = recursive_classification(groups, final_classification, classification_results, depth=0, max_depth=max_depth)\n",
    "# Print the final classification results\n",
    "print(\"Final Classification:\")\n",
    "print(json.dumps(final_classification, indent=2, ensure_ascii=False))\n",
    "# Print the classification results from the API calls\n",
    "print(\"\\nClassification Results:\")\n",
    "print(json.dumps(classification_results, indent=2, ensure_ascii=False))"
   ],
   "metadata": {
    "collapsed": false
   },
   "id": "cb8b8bf0552ec5bd"
  }
 ],
 "metadata": {
  "kernelspec": {
   "display_name": "Python 3",
   "language": "python",
   "name": "python3"
  },
  "language_info": {
   "codemirror_mode": {
    "name": "ipython",
    "version": 2
   },
   "file_extension": ".py",
   "mimetype": "text/x-python",
   "name": "python",
   "nbconvert_exporter": "python",
   "pygments_lexer": "ipython2",
   "version": "2.7.6"
  }
 },
 "nbformat": 4,
 "nbformat_minor": 5
}
