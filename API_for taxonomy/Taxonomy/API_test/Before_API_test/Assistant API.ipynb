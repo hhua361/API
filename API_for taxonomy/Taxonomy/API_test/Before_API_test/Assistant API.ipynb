{
 "cells": [
  {
   "metadata": {
    "ExecuteTime": {
     "end_time": "2024-05-21T07:34:46.640623Z",
     "start_time": "2024-05-21T07:34:45.521333Z"
    }
   },
   "cell_type": "code",
   "source": [
    "import os\n",
    "from dotenv import load_dotenv\n",
    "load_dotenv()\n",
    "api_key = load_dotenv('OPENAI_API_KEY')\n",
    "from openai import OpenAI\n"
   ],
   "id": "a35b96b1d49dac73",
   "outputs": [],
   "execution_count": 2
  },
  {
   "metadata": {},
   "cell_type": "markdown",
   "source": [],
   "id": "d3cd0c466032c0cc"
  },
  {
   "metadata": {
    "ExecuteTime": {
     "end_time": "2024-05-21T07:34:46.647149Z",
     "start_time": "2024-05-21T07:34:46.642621Z"
    }
   },
   "cell_type": "code",
   "source": [
    "import json\n",
    "def show_json(obj):\n",
    "    display(json.loads(obj.model_dump_json()))"
   ],
   "id": "cf82fcb4d64664c2",
   "outputs": [],
   "execution_count": 3
  },
  {
   "metadata": {
    "ExecuteTime": {
     "end_time": "2024-05-21T07:34:47.778845Z",
     "start_time": "2024-05-21T07:34:46.648150Z"
    }
   },
   "cell_type": "code",
   "source": [
    "client = OpenAI()\n",
    "assistant = client.beta.assistants.create(\n",
    "    name = \"NJ_GPT\",\n",
    "    instructions=\"Math tutor\",\n",
    "    model=\"gpt-4o\"\n",
    ")\n",
    "print(assistant)\n",
    "show_json(assistant)"
   ],
   "id": "fe8c746d556db2e0",
   "outputs": [
    {
     "name": "stdout",
     "output_type": "stream",
     "text": [
      "Assistant(id='asst_i4T4qN3y43Zk6IDAZSndu8ag', created_at=1716276887, description=None, instructions='Math tutor', metadata={}, model='gpt-4o', name='NJ_GPT', object='assistant', tools=[], response_format='auto', temperature=1.0, tool_resources=ToolResources(code_interpreter=None, file_search=None), top_p=1.0)\n"
     ]
    },
    {
     "data": {
      "text/plain": [
       "{'id': 'asst_i4T4qN3y43Zk6IDAZSndu8ag',\n",
       " 'created_at': 1716276887,\n",
       " 'description': None,\n",
       " 'instructions': 'Math tutor',\n",
       " 'metadata': {},\n",
       " 'model': 'gpt-4o',\n",
       " 'name': 'NJ_GPT',\n",
       " 'object': 'assistant',\n",
       " 'tools': [],\n",
       " 'response_format': 'auto',\n",
       " 'temperature': 1.0,\n",
       " 'tool_resources': {'code_interpreter': None, 'file_search': None},\n",
       " 'top_p': 1.0}"
      ]
     },
     "metadata": {},
     "output_type": "display_data"
    }
   ],
   "execution_count": 4
  },
  {
   "metadata": {},
   "cell_type": "markdown",
   "source": [],
   "id": "92724eb281af81c9"
  },
  {
   "metadata": {
    "ExecuteTime": {
     "end_time": "2024-05-21T07:34:48.037054Z",
     "start_time": "2024-05-21T07:34:47.782837Z"
    }
   },
   "cell_type": "code",
   "source": [
    "thread = client.beta.threads.create()\n",
    "show_json(thread)"
   ],
   "id": "75c67f5154c76eeb",
   "outputs": [
    {
     "data": {
      "text/plain": [
       "{'id': 'thread_aen8gNaoRIzV5T9jIzJtKYeF',\n",
       " 'created_at': 1716276888,\n",
       " 'metadata': {},\n",
       " 'object': 'thread',\n",
       " 'tool_resources': {'code_interpreter': None, 'file_search': None}}"
      ]
     },
     "metadata": {},
     "output_type": "display_data"
    }
   ],
   "execution_count": 5
  },
  {
   "metadata": {
    "ExecuteTime": {
     "end_time": "2024-05-21T07:34:48.801309Z",
     "start_time": "2024-05-21T07:34:48.038054Z"
    }
   },
   "cell_type": "code",
   "source": [
    "message = client.beta.threads.messages.create(\n",
    "    thread_id = thread.id,\n",
    "    role = \"user\",\n",
    "    content = \"hello?\"\n",
    ")\n",
    "show_json(message)\n",
    "\n",
    "run = client.beta.threads.runs.create(\n",
    "    thread_id=thread.id,\n",
    "    assistant_id=assistant.id\n",
    ")\n",
    "run.choices[0].message.content\n",
    "show_json(run)"
   ],
   "id": "43d0753e30deaf18",
   "outputs": [
    {
     "data": {
      "text/plain": [
       "{'id': 'msg_x6a4OKvXFFz2E8cz1jtRAQyL',\n",
       " 'assistant_id': None,\n",
       " 'attachments': [],\n",
       " 'completed_at': None,\n",
       " 'content': [{'text': {'annotations': [], 'value': 'hello?'}, 'type': 'text'}],\n",
       " 'created_at': 1716276888,\n",
       " 'incomplete_at': None,\n",
       " 'incomplete_details': None,\n",
       " 'metadata': {},\n",
       " 'object': 'thread.message',\n",
       " 'role': 'user',\n",
       " 'run_id': None,\n",
       " 'status': None,\n",
       " 'thread_id': 'thread_aen8gNaoRIzV5T9jIzJtKYeF'}"
      ]
     },
     "metadata": {},
     "output_type": "display_data"
    },
    {
     "data": {
      "text/plain": [
       "{'id': 'run_FjYHC5tPfTwxzr6mAVRwyodB',\n",
       " 'assistant_id': 'asst_i4T4qN3y43Zk6IDAZSndu8ag',\n",
       " 'cancelled_at': None,\n",
       " 'completed_at': None,\n",
       " 'created_at': 1716276888,\n",
       " 'expires_at': 1716277488,\n",
       " 'failed_at': None,\n",
       " 'incomplete_details': None,\n",
       " 'instructions': 'Math tutor',\n",
       " 'last_error': None,\n",
       " 'max_completion_tokens': None,\n",
       " 'max_prompt_tokens': None,\n",
       " 'metadata': {},\n",
       " 'model': 'gpt-4o',\n",
       " 'object': 'thread.run',\n",
       " 'required_action': None,\n",
       " 'response_format': 'auto',\n",
       " 'started_at': None,\n",
       " 'status': 'queued',\n",
       " 'thread_id': 'thread_aen8gNaoRIzV5T9jIzJtKYeF',\n",
       " 'tool_choice': 'auto',\n",
       " 'tools': [],\n",
       " 'truncation_strategy': {'type': 'auto', 'last_messages': None},\n",
       " 'usage': None,\n",
       " 'temperature': 1.0,\n",
       " 'top_p': 1.0,\n",
       " 'tool_resources': {}}"
      ]
     },
     "metadata": {},
     "output_type": "display_data"
    }
   ],
   "execution_count": 6
  },
  {
   "metadata": {},
   "cell_type": "markdown",
   "source": [
    "运行你的thread"
   ],
   "id": "ad708a3a687f2b50"
  },
  {
   "metadata": {
    "ExecuteTime": {
     "end_time": "2024-05-21T07:34:48.809357Z",
     "start_time": "2024-05-21T07:34:48.802310Z"
    }
   },
   "cell_type": "code",
   "source": [
    "import time\n",
    "def wait_on_run(run, thread):\n",
    "    while run.status ==\"queued\" or run.status ==\"in_progress\":\n",
    "        run = client.beta.threads.runs.retrieve(thread_id=thread.id, run_id=run.id)\n",
    "        time.sleep(0.5)\n",
    "    return run"
   ],
   "id": "a17e03087e63da0e",
   "outputs": [],
   "execution_count": 7
  },
  {
   "metadata": {
    "ExecuteTime": {
     "end_time": "2024-05-21T07:34:52.039985Z",
     "start_time": "2024-05-21T07:34:48.811355Z"
    }
   },
   "cell_type": "code",
   "source": [
    "run = wait_on_run(run, thread)\n",
    "show_json(run)"
   ],
   "id": "97cbe7274d6ba86a",
   "outputs": [
    {
     "data": {
      "text/plain": [
       "{'id': 'run_FjYHC5tPfTwxzr6mAVRwyodB',\n",
       " 'assistant_id': 'asst_i4T4qN3y43Zk6IDAZSndu8ag',\n",
       " 'cancelled_at': None,\n",
       " 'completed_at': 1716276891,\n",
       " 'created_at': 1716276888,\n",
       " 'expires_at': None,\n",
       " 'failed_at': None,\n",
       " 'incomplete_details': None,\n",
       " 'instructions': 'Math tutor',\n",
       " 'last_error': None,\n",
       " 'max_completion_tokens': None,\n",
       " 'max_prompt_tokens': None,\n",
       " 'metadata': {},\n",
       " 'model': 'gpt-4o',\n",
       " 'object': 'thread.run',\n",
       " 'required_action': None,\n",
       " 'response_format': 'auto',\n",
       " 'started_at': 1716276888,\n",
       " 'status': 'completed',\n",
       " 'thread_id': 'thread_aen8gNaoRIzV5T9jIzJtKYeF',\n",
       " 'tool_choice': 'auto',\n",
       " 'tools': [],\n",
       " 'truncation_strategy': {'type': 'auto', 'last_messages': None},\n",
       " 'usage': {'completion_tokens': 15, 'prompt_tokens': 29, 'total_tokens': 44},\n",
       " 'temperature': 1.0,\n",
       " 'top_p': 1.0,\n",
       " 'tool_resources': {}}"
      ]
     },
     "metadata": {},
     "output_type": "display_data"
    }
   ],
   "execution_count": 8
  },
  {
   "metadata": {},
   "cell_type": "markdown",
   "source": [],
   "id": "92286edd9ddd2beb"
  },
  {
   "metadata": {
    "ExecuteTime": {
     "end_time": "2024-05-21T07:34:52.391571Z",
     "start_time": "2024-05-21T07:34:52.040984Z"
    }
   },
   "cell_type": "code",
   "source": [
    "message = client.beta.threads.messages.list(thread_id=thread.id)\n",
    "show_json(message)"
   ],
   "id": "7be90bccf7ead39f",
   "outputs": [
    {
     "data": {
      "text/plain": [
       "{'data': [{'id': 'msg_xqkdw5kmKyRRzJuQlW8d2Qwb',\n",
       "   'assistant_id': 'asst_i4T4qN3y43Zk6IDAZSndu8ag',\n",
       "   'attachments': [],\n",
       "   'completed_at': None,\n",
       "   'content': [{'text': {'annotations': [],\n",
       "      'value': 'Hello! How can I assist you with your math questions today?'},\n",
       "     'type': 'text'}],\n",
       "   'created_at': 1716276890,\n",
       "   'incomplete_at': None,\n",
       "   'incomplete_details': None,\n",
       "   'metadata': {},\n",
       "   'object': 'thread.message',\n",
       "   'role': 'assistant',\n",
       "   'run_id': 'run_FjYHC5tPfTwxzr6mAVRwyodB',\n",
       "   'status': None,\n",
       "   'thread_id': 'thread_aen8gNaoRIzV5T9jIzJtKYeF'},\n",
       "  {'id': 'msg_x6a4OKvXFFz2E8cz1jtRAQyL',\n",
       "   'assistant_id': None,\n",
       "   'attachments': [],\n",
       "   'completed_at': None,\n",
       "   'content': [{'text': {'annotations': [], 'value': 'hello?'},\n",
       "     'type': 'text'}],\n",
       "   'created_at': 1716276888,\n",
       "   'incomplete_at': None,\n",
       "   'incomplete_details': None,\n",
       "   'metadata': {},\n",
       "   'object': 'thread.message',\n",
       "   'role': 'user',\n",
       "   'run_id': None,\n",
       "   'status': None,\n",
       "   'thread_id': 'thread_aen8gNaoRIzV5T9jIzJtKYeF'}],\n",
       " 'object': 'list',\n",
       " 'first_id': 'msg_xqkdw5kmKyRRzJuQlW8d2Qwb',\n",
       " 'last_id': 'msg_x6a4OKvXFFz2E8cz1jtRAQyL',\n",
       " 'has_more': False}"
      ]
     },
     "metadata": {},
     "output_type": "display_data"
    }
   ],
   "execution_count": 9
  },
  {
   "metadata": {},
   "cell_type": "markdown",
   "source": [
    "太麻烦了，制作几个function"
   ],
   "id": "9113cb0db8d43f60"
  },
  {
   "metadata": {
    "ExecuteTime": {
     "end_time": "2024-05-21T07:34:52.852929Z",
     "start_time": "2024-05-21T07:34:52.392587Z"
    }
   },
   "cell_type": "code",
   "source": [
    "MATH_ASSISTANT_ID = assistant.id\n",
    "\n",
    "client = OpenAI()\n",
    "\n",
    "def submit_message(assistant_id, thread, user_message):\n",
    "    client.beta.threads.messages.create(\n",
    "        thread_id=thread.id, role=\"user\", content=user_message)\n",
    "    return client.beta.threads.runs.create(thread_id=thread.id, assistant_id=assistant.id)\n",
    "    \n",
    "def get_response(thread):\n",
    "    return client.beta.thread.messages.list(thread_id=thread.id,order=\"asc\")"
   ],
   "id": "8e9e19d785a6a197",
   "outputs": [],
   "execution_count": 10
  },
  {
   "metadata": {
    "ExecuteTime": {
     "end_time": "2024-05-21T07:34:52.859565Z",
     "start_time": "2024-05-21T07:34:52.854926Z"
    }
   },
   "cell_type": "code",
   "source": [
    "def create_thread_and_run(user_input):\n",
    "    thread = client.beta.threads.create()\n",
    "    run = submit_message(MATH_ASSISTANT_ID,thread,user_input)\n",
    "    return thread, run"
   ],
   "id": "b4737793d19411cb",
   "outputs": [],
   "execution_count": 11
  },
  {
   "metadata": {
    "ExecuteTime": {
     "end_time": "2024-05-21T10:15:00.272084Z",
     "start_time": "2024-05-21T10:14:56.722239Z"
    }
   },
   "cell_type": "code",
   "source": [
    "\n",
    "def pretty_print(message):\n",
    "    print(\"#message\")\n",
    "    for m in message:\n",
    "        print(f\"{m.role}:{m.content[0].text.value}\")\n",
    "thread1, run1= create_thread_and_run(\"how are you?\")\n",
    "run1 = wait_on_run(run1, thread1)\n",
    "\n",
    "pretty_print(get_response(thread1))\n"
   ],
   "id": "6d3ee098db519ac7",
   "outputs": [
    {
     "name": "stdout",
     "output_type": "stream",
     "text": [
      "#message\n",
      "user:how are you?\n",
      "assistant:I'm doing great! How can I assist you today?\n"
     ]
    }
   ],
   "execution_count": 31
  },
  {
   "metadata": {},
   "cell_type": "markdown",
   "source": [],
   "id": "b205d180e95c957e"
  },
  {
   "metadata": {
    "ExecuteTime": {
     "end_time": "2024-05-21T07:58:21.185172Z",
     "start_time": "2024-05-21T07:58:16.490701Z"
    }
   },
   "cell_type": "code",
   "source": [
    "\n",
    "\n",
    "\n",
    "\n",
    "\n"
   ],
   "id": "dfa07c2c85152ac4",
   "outputs": [
    {
     "name": "stdout",
     "output_type": "stream",
     "text": [
      "#message\n",
      "user:Please analyze the data in the attached file.\n",
      "assistant:I'm unable to view or process attachments in this format. However, you can describe the contents of the file to me, or extract the data you need help with and provide it here. Once I have the data or a description of it, I can assist with analysis or any related questions you have!\n"
     ]
    }
   ],
   "execution_count": 21
  },
  {
   "metadata": {},
   "cell_type": "code",
   "outputs": [],
   "execution_count": null,
   "source": [],
   "id": "d0244a23e6773794"
  },
  {
   "metadata": {},
   "cell_type": "markdown",
   "source": [
    "加入code解释器\n"
   ],
   "id": "37edf2e10fe1df10"
  },
  {
   "metadata": {
    "ExecuteTime": {
     "end_time": "2024-05-21T08:16:23.499752Z",
     "start_time": "2024-05-21T08:16:23.203590Z"
    }
   },
   "cell_type": "code",
   "source": [
    "assistant = client.beta.assistants.update(MATH_ASSISTANT_ID,tools=[{\"type\":\"code_interpreter\"}])\n",
    "show_json(assistant)"
   ],
   "id": "40963d3c7e9de0e8",
   "outputs": [
    {
     "data": {
      "text/plain": [
       "{'id': 'asst_i4T4qN3y43Zk6IDAZSndu8ag',\n",
       " 'created_at': 1716276887,\n",
       " 'description': None,\n",
       " 'instructions': 'Math tutor',\n",
       " 'metadata': {},\n",
       " 'model': 'gpt-4o',\n",
       " 'name': 'NJ_GPT',\n",
       " 'object': 'assistant',\n",
       " 'tools': [{'type': 'code_interpreter'}],\n",
       " 'response_format': 'auto',\n",
       " 'temperature': 1.0,\n",
       " 'tool_resources': {'code_interpreter': {'file_ids': []}, 'file_search': None},\n",
       " 'top_p': 1.0}"
      ]
     },
     "metadata": {},
     "output_type": "display_data"
    }
   ],
   "execution_count": 23
  },
  {
   "metadata": {},
   "cell_type": "markdown",
   "source": [
    "展示运行细节"
   ],
   "id": "ea36c811fa4ac9b5"
  },
  {
   "metadata": {
    "ExecuteTime": {
     "end_time": "2024-05-21T08:45:03.676792Z",
     "start_time": "2024-05-21T08:45:03.362374Z"
    }
   },
   "cell_type": "code",
   "source": [
    "run_steps= client.beta.threads.runs.steps.list(thread_id=thread1.id, run_id=run1.id, order=\"asc\")\n",
    "for step in run_steps.data:\n",
    "    step_details = step.step_details\n",
    "    print(json.dumps(show_json(step_details), indent=4))\n"
   ],
   "id": "6e8e2758f06ce91",
   "outputs": [
    {
     "data": {
      "text/plain": [
       "{'message_creation': {'message_id': 'msg_gBe7rvw9IE56Ky5Xc183ewkS'},\n",
       " 'type': 'message_creation'}"
      ]
     },
     "metadata": {},
     "output_type": "display_data"
    },
    {
     "name": "stdout",
     "output_type": "stream",
     "text": [
      "null\n"
     ]
    }
   ],
   "execution_count": 25
  },
  {
   "metadata": {},
   "cell_type": "markdown",
   "source": [
    "retrieval"
   ],
   "id": "574b8cb38f914c92"
  },
  {
   "metadata": {
    "ExecuteTime": {
     "end_time": "2024-05-21T10:24:08.508887Z",
     "start_time": "2024-05-21T10:24:08.452029Z"
    }
   },
   "cell_type": "code",
   "source": [
    "import openai\n",
    "# Create a file object to upload\n",
    "file = openai.File.create(\n",
    "    file=open(\"/block_NJ/Block1.py\", 'rb'),\n",
    "    purpose=\"assistants\"\n",
    ")\n",
    "\n",
    "# Update the assistant with the new tools and file\n",
    "assistant = openai.Assistant.update(\n",
    "    MATH_ASSISTANT_ID,\n",
    "    tools=[{\"type\": \"code_interpreter\"}, {\"type\": \"retrieval\"}],\n",
    "    file=file['id']\n",
    ")\n",
    "show_json(assistant)"
   ],
   "id": "4d1ecaadeb9873e3",
   "outputs": [
    {
     "ename": "APIRemovedInV1",
     "evalue": "\n\nYou tried to access openai.File, but this is no longer supported in openai>=1.0.0 - see the README at https://github.com/openai/openai-python for the API.\n\nYou can run `openai migrate` to automatically upgrade your codebase to use the 1.0.0 interface. \n\nAlternatively, you can pin your installation to the old version, e.g. `pip install openai==0.28`\n\nA detailed migration guide is available here: https://github.com/openai/openai-python/discussions/742\n",
     "output_type": "error",
     "traceback": [
      "\u001B[1;31m---------------------------------------------------------------------------\u001B[0m",
      "\u001B[1;31mAPIRemovedInV1\u001B[0m                            Traceback (most recent call last)",
      "Cell \u001B[1;32mIn[34], line 3\u001B[0m\n\u001B[0;32m      1\u001B[0m \u001B[38;5;28;01mimport\u001B[39;00m \u001B[38;5;21;01mopenai\u001B[39;00m\n\u001B[0;32m      2\u001B[0m \u001B[38;5;66;03m# Create a file object to upload\u001B[39;00m\n\u001B[1;32m----> 3\u001B[0m file \u001B[38;5;241m=\u001B[39m openai\u001B[38;5;241m.\u001B[39mFile\u001B[38;5;241m.\u001B[39mcreate(\n\u001B[0;32m      4\u001B[0m     file\u001B[38;5;241m=\u001B[39m\u001B[38;5;28mopen\u001B[39m(\u001B[38;5;124m\"\u001B[39m\u001B[38;5;124mD:/桌面/pythonProject/block/Block1.py\u001B[39m\u001B[38;5;124m\"\u001B[39m, \u001B[38;5;124m'\u001B[39m\u001B[38;5;124mrb\u001B[39m\u001B[38;5;124m'\u001B[39m),\n\u001B[0;32m      5\u001B[0m     purpose\u001B[38;5;241m=\u001B[39m\u001B[38;5;124m\"\u001B[39m\u001B[38;5;124massistants\u001B[39m\u001B[38;5;124m\"\u001B[39m\n\u001B[0;32m      6\u001B[0m )\n\u001B[0;32m      8\u001B[0m \u001B[38;5;66;03m# Update the assistant with the new tools and file\u001B[39;00m\n\u001B[0;32m      9\u001B[0m assistant \u001B[38;5;241m=\u001B[39m openai\u001B[38;5;241m.\u001B[39mAssistant\u001B[38;5;241m.\u001B[39mupdate(\n\u001B[0;32m     10\u001B[0m     MATH_ASSISTANT_ID,\n\u001B[0;32m     11\u001B[0m     tools\u001B[38;5;241m=\u001B[39m[{\u001B[38;5;124m\"\u001B[39m\u001B[38;5;124mtype\u001B[39m\u001B[38;5;124m\"\u001B[39m: \u001B[38;5;124m\"\u001B[39m\u001B[38;5;124mcode_interpreter\u001B[39m\u001B[38;5;124m\"\u001B[39m}, {\u001B[38;5;124m\"\u001B[39m\u001B[38;5;124mtype\u001B[39m\u001B[38;5;124m\"\u001B[39m: \u001B[38;5;124m\"\u001B[39m\u001B[38;5;124mretrieval\u001B[39m\u001B[38;5;124m\"\u001B[39m}],\n\u001B[0;32m     12\u001B[0m     file\u001B[38;5;241m=\u001B[39mfile[\u001B[38;5;124m'\u001B[39m\u001B[38;5;124mid\u001B[39m\u001B[38;5;124m'\u001B[39m]\n\u001B[0;32m     13\u001B[0m )\n",
      "File \u001B[1;32m~\\anaconda3\\Lib\\site-packages\\openai\\lib\\_old_api.py:39\u001B[0m, in \u001B[0;36mAPIRemovedInV1Proxy.__call__\u001B[1;34m(self, *_args, **_kwargs)\u001B[0m\n\u001B[0;32m     38\u001B[0m \u001B[38;5;28;01mdef\u001B[39;00m \u001B[38;5;21m__call__\u001B[39m(\u001B[38;5;28mself\u001B[39m, \u001B[38;5;241m*\u001B[39m_args: Any, \u001B[38;5;241m*\u001B[39m\u001B[38;5;241m*\u001B[39m_kwargs: Any) \u001B[38;5;241m-\u001B[39m\u001B[38;5;241m>\u001B[39m Any:\n\u001B[1;32m---> 39\u001B[0m     \u001B[38;5;28;01mraise\u001B[39;00m APIRemovedInV1(symbol\u001B[38;5;241m=\u001B[39m\u001B[38;5;28mself\u001B[39m\u001B[38;5;241m.\u001B[39m_symbol)\n",
      "\u001B[1;31mAPIRemovedInV1\u001B[0m: \n\nYou tried to access openai.File, but this is no longer supported in openai>=1.0.0 - see the README at https://github.com/openai/openai-python for the API.\n\nYou can run `openai migrate` to automatically upgrade your codebase to use the 1.0.0 interface. \n\nAlternatively, you can pin your installation to the old version, e.g. `pip install openai==0.28`\n\nA detailed migration guide is available here: https://github.com/openai/openai-python/discussions/742\n"
     ]
    }
   ],
   "execution_count": 34
  },
  {
   "metadata": {
    "ExecuteTime": {
     "end_time": "2024-05-21T11:25:56.502065Z",
     "start_time": "2024-05-21T11:25:52.025847Z"
    }
   },
   "cell_type": "code",
   "source": [
    "# Create a vector store caled \"Financial Statements\"\n",
    "vector_store = client.beta.vector_stores.create(name=\"Financial Statements\")\n",
    " \n",
    "# Ready the files for upload to OpenAI\n",
    "file_paths = [\"D:/桌面/pythonProject/block_NJ/Block1.py\",]\n",
    "file_streams = [open(path, \"rb\") for path in file_paths]\n",
    " \n",
    "# Use the upload and poll SDK helper to upload the files, add them to the vector store,\n",
    "# and poll the status of the file batch for completion.\n",
    "file_batch = client.beta.vector_stores.file_batches.upload_and_poll(\n",
    "  vector_store_id=vector_store.id, files=file_streams\n",
    ")\n",
    " \n",
    "# You can print the status and the file counts of the batch to see the result of this operation.\n",
    "print(file_batch.status)\n",
    "print(file_batch.file_counts)\n",
    "\n"
   ],
   "id": "f0088f80a93d2fc1",
   "outputs": [
    {
     "name": "stdout",
     "output_type": "stream",
     "text": [
      "completed\n",
      "FileCounts(cancelled=0, completed=1, failed=0, in_progress=0, total=1)\n"
     ]
    }
   ],
   "execution_count": 35
  },
  {
   "metadata": {
    "ExecuteTime": {
     "end_time": "2024-05-21T11:47:47.805565Z",
     "start_time": "2024-05-21T11:47:47.339126Z"
    }
   },
   "cell_type": "code",
   "source": [
    "assistant = client.beta.assistants.update(\n",
    "    assistant_id=assistant.id,\n",
    "    tool_resources={\n",
    "        \"file_search\": {\n",
    "            \"vector_store_ids\": [vector_store.id]\n",
    "        },\n",
    "        \"type\": \"code_interpreter\"\n",
    "    },\n",
    "    tools=[\n",
    "        {\"type\": \"retrieval\"}\n",
    "    ]\n",
    ")\n",
    "show_json(assistant)"
   ],
   "id": "409295efe89c9dc9",
   "outputs": [
    {
     "ename": "BadRequestError",
     "evalue": "Error code: 400 - {'error': {'message': \"Invalid value: 'retrieval'. Supported values are: 'code_interpreter', 'function', and 'file_search'.\", 'type': 'invalid_request_error', 'param': 'tools[0].type', 'code': 'invalid_value'}}",
     "output_type": "error",
     "traceback": [
      "\u001B[1;31m---------------------------------------------------------------------------\u001B[0m",
      "\u001B[1;31mBadRequestError\u001B[0m                           Traceback (most recent call last)",
      "Cell \u001B[1;32mIn[36], line 1\u001B[0m\n\u001B[1;32m----> 1\u001B[0m assistant \u001B[38;5;241m=\u001B[39m client\u001B[38;5;241m.\u001B[39mbeta\u001B[38;5;241m.\u001B[39massistants\u001B[38;5;241m.\u001B[39mupdate(\n\u001B[0;32m      2\u001B[0m     assistant_id\u001B[38;5;241m=\u001B[39massistant\u001B[38;5;241m.\u001B[39mid,\n\u001B[0;32m      3\u001B[0m     tool_resources\u001B[38;5;241m=\u001B[39m{\n\u001B[0;32m      4\u001B[0m         \u001B[38;5;124m\"\u001B[39m\u001B[38;5;124mfile_search\u001B[39m\u001B[38;5;124m\"\u001B[39m: {\n\u001B[0;32m      5\u001B[0m             \u001B[38;5;124m\"\u001B[39m\u001B[38;5;124mvector_store_ids\u001B[39m\u001B[38;5;124m\"\u001B[39m: [vector_store\u001B[38;5;241m.\u001B[39mid]\n\u001B[0;32m      6\u001B[0m         },\n\u001B[0;32m      7\u001B[0m         \u001B[38;5;124m\"\u001B[39m\u001B[38;5;124mtype\u001B[39m\u001B[38;5;124m\"\u001B[39m: \u001B[38;5;124m\"\u001B[39m\u001B[38;5;124mcode_interpreter\u001B[39m\u001B[38;5;124m\"\u001B[39m\n\u001B[0;32m      8\u001B[0m     },\n\u001B[0;32m      9\u001B[0m     tools\u001B[38;5;241m=\u001B[39m[\n\u001B[0;32m     10\u001B[0m         {\u001B[38;5;124m\"\u001B[39m\u001B[38;5;124mtype\u001B[39m\u001B[38;5;124m\"\u001B[39m: \u001B[38;5;124m\"\u001B[39m\u001B[38;5;124mretrieval\u001B[39m\u001B[38;5;124m\"\u001B[39m}\n\u001B[0;32m     11\u001B[0m     ]\n\u001B[0;32m     12\u001B[0m )\n\u001B[0;32m     13\u001B[0m show_json(assistant)\n",
      "File \u001B[1;32m~\\anaconda3\\Lib\\site-packages\\openai\\resources\\beta\\assistants.py:299\u001B[0m, in \u001B[0;36mAssistants.update\u001B[1;34m(self, assistant_id, description, instructions, metadata, model, name, response_format, temperature, tool_resources, tools, top_p, extra_headers, extra_query, extra_body, timeout)\u001B[0m\n\u001B[0;32m    297\u001B[0m     \u001B[38;5;28;01mraise\u001B[39;00m \u001B[38;5;167;01mValueError\u001B[39;00m(\u001B[38;5;124mf\u001B[39m\u001B[38;5;124m\"\u001B[39m\u001B[38;5;124mExpected a non-empty value for `assistant_id` but received \u001B[39m\u001B[38;5;132;01m{\u001B[39;00massistant_id\u001B[38;5;132;01m!r}\u001B[39;00m\u001B[38;5;124m\"\u001B[39m)\n\u001B[0;32m    298\u001B[0m extra_headers \u001B[38;5;241m=\u001B[39m {\u001B[38;5;124m\"\u001B[39m\u001B[38;5;124mOpenAI-Beta\u001B[39m\u001B[38;5;124m\"\u001B[39m: \u001B[38;5;124m\"\u001B[39m\u001B[38;5;124massistants=v2\u001B[39m\u001B[38;5;124m\"\u001B[39m, \u001B[38;5;241m*\u001B[39m\u001B[38;5;241m*\u001B[39m(extra_headers \u001B[38;5;129;01mor\u001B[39;00m {})}\n\u001B[1;32m--> 299\u001B[0m \u001B[38;5;28;01mreturn\u001B[39;00m \u001B[38;5;28mself\u001B[39m\u001B[38;5;241m.\u001B[39m_post(\n\u001B[0;32m    300\u001B[0m     \u001B[38;5;124mf\u001B[39m\u001B[38;5;124m\"\u001B[39m\u001B[38;5;124m/assistants/\u001B[39m\u001B[38;5;132;01m{\u001B[39;00massistant_id\u001B[38;5;132;01m}\u001B[39;00m\u001B[38;5;124m\"\u001B[39m,\n\u001B[0;32m    301\u001B[0m     body\u001B[38;5;241m=\u001B[39mmaybe_transform(\n\u001B[0;32m    302\u001B[0m         {\n\u001B[0;32m    303\u001B[0m             \u001B[38;5;124m\"\u001B[39m\u001B[38;5;124mdescription\u001B[39m\u001B[38;5;124m\"\u001B[39m: description,\n\u001B[0;32m    304\u001B[0m             \u001B[38;5;124m\"\u001B[39m\u001B[38;5;124minstructions\u001B[39m\u001B[38;5;124m\"\u001B[39m: instructions,\n\u001B[0;32m    305\u001B[0m             \u001B[38;5;124m\"\u001B[39m\u001B[38;5;124mmetadata\u001B[39m\u001B[38;5;124m\"\u001B[39m: metadata,\n\u001B[0;32m    306\u001B[0m             \u001B[38;5;124m\"\u001B[39m\u001B[38;5;124mmodel\u001B[39m\u001B[38;5;124m\"\u001B[39m: model,\n\u001B[0;32m    307\u001B[0m             \u001B[38;5;124m\"\u001B[39m\u001B[38;5;124mname\u001B[39m\u001B[38;5;124m\"\u001B[39m: name,\n\u001B[0;32m    308\u001B[0m             \u001B[38;5;124m\"\u001B[39m\u001B[38;5;124mresponse_format\u001B[39m\u001B[38;5;124m\"\u001B[39m: response_format,\n\u001B[0;32m    309\u001B[0m             \u001B[38;5;124m\"\u001B[39m\u001B[38;5;124mtemperature\u001B[39m\u001B[38;5;124m\"\u001B[39m: temperature,\n\u001B[0;32m    310\u001B[0m             \u001B[38;5;124m\"\u001B[39m\u001B[38;5;124mtool_resources\u001B[39m\u001B[38;5;124m\"\u001B[39m: tool_resources,\n\u001B[0;32m    311\u001B[0m             \u001B[38;5;124m\"\u001B[39m\u001B[38;5;124mtools\u001B[39m\u001B[38;5;124m\"\u001B[39m: tools,\n\u001B[0;32m    312\u001B[0m             \u001B[38;5;124m\"\u001B[39m\u001B[38;5;124mtop_p\u001B[39m\u001B[38;5;124m\"\u001B[39m: top_p,\n\u001B[0;32m    313\u001B[0m         },\n\u001B[0;32m    314\u001B[0m         assistant_update_params\u001B[38;5;241m.\u001B[39mAssistantUpdateParams,\n\u001B[0;32m    315\u001B[0m     ),\n\u001B[0;32m    316\u001B[0m     options\u001B[38;5;241m=\u001B[39mmake_request_options(\n\u001B[0;32m    317\u001B[0m         extra_headers\u001B[38;5;241m=\u001B[39mextra_headers, extra_query\u001B[38;5;241m=\u001B[39mextra_query, extra_body\u001B[38;5;241m=\u001B[39mextra_body, timeout\u001B[38;5;241m=\u001B[39mtimeout\n\u001B[0;32m    318\u001B[0m     ),\n\u001B[0;32m    319\u001B[0m     cast_to\u001B[38;5;241m=\u001B[39mAssistant,\n\u001B[0;32m    320\u001B[0m )\n",
      "File \u001B[1;32m~\\anaconda3\\Lib\\site-packages\\openai\\_base_client.py:1240\u001B[0m, in \u001B[0;36mSyncAPIClient.post\u001B[1;34m(self, path, cast_to, body, options, files, stream, stream_cls)\u001B[0m\n\u001B[0;32m   1226\u001B[0m \u001B[38;5;28;01mdef\u001B[39;00m \u001B[38;5;21mpost\u001B[39m(\n\u001B[0;32m   1227\u001B[0m     \u001B[38;5;28mself\u001B[39m,\n\u001B[0;32m   1228\u001B[0m     path: \u001B[38;5;28mstr\u001B[39m,\n\u001B[1;32m   (...)\u001B[0m\n\u001B[0;32m   1235\u001B[0m     stream_cls: \u001B[38;5;28mtype\u001B[39m[_StreamT] \u001B[38;5;241m|\u001B[39m \u001B[38;5;28;01mNone\u001B[39;00m \u001B[38;5;241m=\u001B[39m \u001B[38;5;28;01mNone\u001B[39;00m,\n\u001B[0;32m   1236\u001B[0m ) \u001B[38;5;241m-\u001B[39m\u001B[38;5;241m>\u001B[39m ResponseT \u001B[38;5;241m|\u001B[39m _StreamT:\n\u001B[0;32m   1237\u001B[0m     opts \u001B[38;5;241m=\u001B[39m FinalRequestOptions\u001B[38;5;241m.\u001B[39mconstruct(\n\u001B[0;32m   1238\u001B[0m         method\u001B[38;5;241m=\u001B[39m\u001B[38;5;124m\"\u001B[39m\u001B[38;5;124mpost\u001B[39m\u001B[38;5;124m\"\u001B[39m, url\u001B[38;5;241m=\u001B[39mpath, json_data\u001B[38;5;241m=\u001B[39mbody, files\u001B[38;5;241m=\u001B[39mto_httpx_files(files), \u001B[38;5;241m*\u001B[39m\u001B[38;5;241m*\u001B[39moptions\n\u001B[0;32m   1239\u001B[0m     )\n\u001B[1;32m-> 1240\u001B[0m     \u001B[38;5;28;01mreturn\u001B[39;00m cast(ResponseT, \u001B[38;5;28mself\u001B[39m\u001B[38;5;241m.\u001B[39mrequest(cast_to, opts, stream\u001B[38;5;241m=\u001B[39mstream, stream_cls\u001B[38;5;241m=\u001B[39mstream_cls))\n",
      "File \u001B[1;32m~\\anaconda3\\Lib\\site-packages\\openai\\_base_client.py:921\u001B[0m, in \u001B[0;36mSyncAPIClient.request\u001B[1;34m(self, cast_to, options, remaining_retries, stream, stream_cls)\u001B[0m\n\u001B[0;32m    912\u001B[0m \u001B[38;5;28;01mdef\u001B[39;00m \u001B[38;5;21mrequest\u001B[39m(\n\u001B[0;32m    913\u001B[0m     \u001B[38;5;28mself\u001B[39m,\n\u001B[0;32m    914\u001B[0m     cast_to: Type[ResponseT],\n\u001B[1;32m   (...)\u001B[0m\n\u001B[0;32m    919\u001B[0m     stream_cls: \u001B[38;5;28mtype\u001B[39m[_StreamT] \u001B[38;5;241m|\u001B[39m \u001B[38;5;28;01mNone\u001B[39;00m \u001B[38;5;241m=\u001B[39m \u001B[38;5;28;01mNone\u001B[39;00m,\n\u001B[0;32m    920\u001B[0m ) \u001B[38;5;241m-\u001B[39m\u001B[38;5;241m>\u001B[39m ResponseT \u001B[38;5;241m|\u001B[39m _StreamT:\n\u001B[1;32m--> 921\u001B[0m     \u001B[38;5;28;01mreturn\u001B[39;00m \u001B[38;5;28mself\u001B[39m\u001B[38;5;241m.\u001B[39m_request(\n\u001B[0;32m    922\u001B[0m         cast_to\u001B[38;5;241m=\u001B[39mcast_to,\n\u001B[0;32m    923\u001B[0m         options\u001B[38;5;241m=\u001B[39moptions,\n\u001B[0;32m    924\u001B[0m         stream\u001B[38;5;241m=\u001B[39mstream,\n\u001B[0;32m    925\u001B[0m         stream_cls\u001B[38;5;241m=\u001B[39mstream_cls,\n\u001B[0;32m    926\u001B[0m         remaining_retries\u001B[38;5;241m=\u001B[39mremaining_retries,\n\u001B[0;32m    927\u001B[0m     )\n",
      "File \u001B[1;32m~\\anaconda3\\Lib\\site-packages\\openai\\_base_client.py:1020\u001B[0m, in \u001B[0;36mSyncAPIClient._request\u001B[1;34m(self, cast_to, options, remaining_retries, stream, stream_cls)\u001B[0m\n\u001B[0;32m   1017\u001B[0m         err\u001B[38;5;241m.\u001B[39mresponse\u001B[38;5;241m.\u001B[39mread()\n\u001B[0;32m   1019\u001B[0m     log\u001B[38;5;241m.\u001B[39mdebug(\u001B[38;5;124m\"\u001B[39m\u001B[38;5;124mRe-raising status error\u001B[39m\u001B[38;5;124m\"\u001B[39m)\n\u001B[1;32m-> 1020\u001B[0m     \u001B[38;5;28;01mraise\u001B[39;00m \u001B[38;5;28mself\u001B[39m\u001B[38;5;241m.\u001B[39m_make_status_error_from_response(err\u001B[38;5;241m.\u001B[39mresponse) \u001B[38;5;28;01mfrom\u001B[39;00m \u001B[38;5;28;01mNone\u001B[39;00m\n\u001B[0;32m   1022\u001B[0m \u001B[38;5;28;01mreturn\u001B[39;00m \u001B[38;5;28mself\u001B[39m\u001B[38;5;241m.\u001B[39m_process_response(\n\u001B[0;32m   1023\u001B[0m     cast_to\u001B[38;5;241m=\u001B[39mcast_to,\n\u001B[0;32m   1024\u001B[0m     options\u001B[38;5;241m=\u001B[39moptions,\n\u001B[1;32m   (...)\u001B[0m\n\u001B[0;32m   1027\u001B[0m     stream_cls\u001B[38;5;241m=\u001B[39mstream_cls,\n\u001B[0;32m   1028\u001B[0m )\n",
      "\u001B[1;31mBadRequestError\u001B[0m: Error code: 400 - {'error': {'message': \"Invalid value: 'retrieval'. Supported values are: 'code_interpreter', 'function', and 'file_search'.\", 'type': 'invalid_request_error', 'param': 'tools[0].type', 'code': 'invalid_value'}}"
     ]
    }
   ],
   "execution_count": 36
  }
 ],
 "metadata": {
  "kernelspec": {
   "display_name": "Python 3",
   "language": "python",
   "name": "python3"
  },
  "language_info": {
   "codemirror_mode": {
    "name": "ipython",
    "version": 2
   },
   "file_extension": ".py",
   "mimetype": "text/x-python",
   "name": "python",
   "nbconvert_exporter": "python",
   "pygments_lexer": "ipython2",
   "version": "2.7.6"
  }
 },
 "nbformat": 4,
 "nbformat_minor": 5
}
